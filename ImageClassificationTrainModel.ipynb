{
 "cells": [
  {
   "cell_type": "markdown",
   "metadata": {
    "id": "QrqjbVQ5ZvvI"
   },
   "source": [
    "# Image Classification Train Model"
   ]
  },
  {
   "cell_type": "code",
   "execution_count": null,
   "metadata": {
    "colab": {
     "base_uri": "https://localhost:8080/"
    },
    "id": "XreGQnA9Ex9G",
    "outputId": "7664e5bb-2e47-4fa2-fa16-abcecba71594"
   },
   "outputs": [],
   "source": [
    "#---- Install stuff -------\n",
    "!pip install --upgrade pip\n",
    "\n",
    "!pip install tensorflow\n",
    "!pip install numpy==1.19.5\n",
    "\n",
    "!pip install Pillow\n",
    "!pip install playsound\n",
    "!pip install gTTS\n",
    "\n",
    "!pip install matplotlib\n",
    "!pip install pandas\n",
    "!pip install seaborn\n",
    "\n",
    "!pip install PyYAML"
   ]
  },
  {
   "cell_type": "code",
   "execution_count": null,
   "metadata": {
    "id": "FLu1jB86Cu1I"
   },
   "outputs": [],
   "source": [
    "import pathlib\n",
    "\n",
    "import matplotlib.pyplot as plt\n",
    "import numpy as np\n",
    "import pandas as pd\n",
    "import seaborn as sns\n",
    "\n",
    "import os\n",
    "import PIL\n",
    "import zipfile\n",
    "\n",
    "from PIL import Image"
   ]
  },
  {
   "cell_type": "code",
   "execution_count": null,
   "metadata": {
    "id": "81Wb-xQvCu1L"
   },
   "outputs": [],
   "source": [
    "import tensorflow as tf\n",
    "from tensorflow import keras\n",
    "from tensorflow.keras.models import Sequential\n",
    "from tensorflow.keras import layers\n",
    "from tensorflow.keras.layers import Dense, Dropout, Activation, Flatten, Conv2D, MaxPooling2D, BatchNormalization, GlobalAveragePooling2D\n",
    "from tensorflow.keras.callbacks import ModelCheckpoint, ReduceLROnPlateau, EarlyStopping"
   ]
  },
  {
   "cell_type": "code",
   "execution_count": null,
   "metadata": {
    "id": "0y8b0eAqCu1L"
   },
   "outputs": [],
   "source": [
    "from tensorflow.keras.applications.resnet50 import ResNet50\n",
    "from tensorflow.keras.applications.resnet_v2 import ResNet50V2"
   ]
  },
  {
   "cell_type": "code",
   "execution_count": null,
   "metadata": {
    "id": "dhNU69DC_WLL"
   },
   "outputs": [],
   "source": [
    "%matplotlib inline\n",
    "\n",
    "import warnings\n",
    "warnings.filterwarnings('ignore')"
   ]
  },
  {
   "cell_type": "code",
   "execution_count": null,
   "metadata": {
    "id": "mOQvESLVCu1L"
   },
   "outputs": [],
   "source": [
    "is_google_colab = True\n",
    "is_azure_ml = False"
   ]
  },
  {
   "cell_type": "code",
   "execution_count": null,
   "metadata": {
    "colab": {
     "base_uri": "https://localhost:8080/"
    },
    "id": "ZPyfsAxWCu1M",
    "outputId": "71763412-04a6-4d26-a1b0-833b8f895330"
   },
   "outputs": [],
   "source": [
    "print('tf version: ',tf.__version__)\n",
    "print('keras version: ',keras.__version__)"
   ]
  },
  {
   "cell_type": "code",
   "execution_count": null,
   "metadata": {
    "colab": {
     "base_uri": "https://localhost:8080/"
    },
    "id": "938ULzaoCu1N",
    "outputId": "5b73a908-d553-496e-aa69-e6f8e691bb72"
   },
   "outputs": [],
   "source": [
    "#check for GPU\n",
    "print('tf gpu: ',tf.test.is_gpu_available())\n",
    "print('tf gpu: ',tf.config.list_physical_devices('GPU'))\n",
    "for x in tf.config.list_physical_devices():\n",
    "    print('device: ',x)"
   ]
  },
  {
   "cell_type": "markdown",
   "metadata": {
    "id": "qPamviyc2TS4"
   },
   "source": [
    "# Read Cfg"
   ]
  },
  {
   "cell_type": "code",
   "execution_count": null,
   "metadata": {
    "colab": {
     "base_uri": "https://localhost:8080/"
    },
    "id": "DWj7dLx97iRg",
    "outputId": "33fe081a-bbf8-4ecf-bf05-8dea889125ac"
   },
   "outputs": [],
   "source": [
    "!pwd\n",
    "!ls"
   ]
  },
  {
   "cell_type": "code",
   "execution_count": null,
   "metadata": {
    "id": "24yjICdx2SQL"
   },
   "outputs": [],
   "source": [
    "#cfg_file = 'flowers-recognition.yml'\n",
    "cfg_file = 'work_pose.yml'\n",
    "#cfg_file = 'home_presence.yml'\n",
    "\n",
    "#read cfg\n",
    "import yaml\n",
    "\n",
    "with open(cfg_file, \"r\") as ymlfile:\n",
    "    cfg = yaml.load(ymlfile) #, Loader=yaml.CLoader"
   ]
  },
  {
   "cell_type": "code",
   "execution_count": null,
   "metadata": {
    "colab": {
     "base_uri": "https://localhost:8080/"
    },
    "id": "eToh25vk3VNq",
    "outputId": "72a80279-260e-421e-a352-bff2dbe5a7b5"
   },
   "outputs": [],
   "source": [
    "project_name = cfg[\"project_name\"]\n",
    "print('project_name: ',project_name)\n",
    "print('-'*20)\n",
    "\n",
    "project_parent_dir = cfg[\"project_parent_dir\"]\n",
    "project_dir = project_parent_dir + project_name + \"/\"\n",
    "print('project_dir: ',project_dir)\n",
    "\n",
    "img_height = cfg['input_img_height']\n",
    "img_width = cfg['input_img_width']\n",
    "print('img_height: ',img_height)\n",
    "print('img_width: ',img_width)\n",
    "\n",
    "print('train_freeze_base_layer: ',cfg['train_freeze_base_layer'])\n",
    "print('train_freeze_skip_last_layers: ',cfg['train_freeze_skip_last_layers'])\n",
    "print('train_augumentation: ',cfg['train_augumentation'])"
   ]
  },
  {
   "cell_type": "code",
   "execution_count": null,
   "metadata": {
    "id": "-7UExsKx9OqL"
   },
   "outputs": [],
   "source": [
    "if os.path.isdir(project_parent_dir)==False:\n",
    "    os.mkdir(project_parent_dir)\n",
    "if os.path.isdir(project_dir)==False:\n",
    "    os.mkdir(project_dir)"
   ]
  },
  {
   "cell_type": "code",
   "execution_count": null,
   "metadata": {
    "colab": {
     "base_uri": "https://localhost:8080/"
    },
    "id": "xm6YwCSjCu1O",
    "outputId": "3584a435-38f1-4cb2-87ff-f4ce57178b5e"
   },
   "outputs": [],
   "source": [
    "## If you are using the data by mounting the google drive, use the following :\n",
    "if is_google_colab:\n",
    "    from google.colab import drive\n",
    "    drive.mount('/content/gdrive')\n",
    "##Ref:https://towardsdatascience.com/downloading-datasets-into-google-drive-via-google-colab-bcb1b30b0166"
   ]
  },
  {
   "cell_type": "code",
   "execution_count": null,
   "metadata": {
    "id": "WY7IZnepCu1P"
   },
   "outputs": [],
   "source": [
    "working_dir_str = project_dir"
   ]
  },
  {
   "cell_type": "code",
   "execution_count": null,
   "metadata": {
    "id": "UkpSMR1qDPxU"
   },
   "outputs": [],
   "source": [
    "!ls $working_dir_str"
   ]
  },
  {
   "cell_type": "code",
   "execution_count": null,
   "metadata": {
    "id": "NLssm4qtoM_p"
   },
   "outputs": [],
   "source": [
    "from os import listdir\n",
    "from os.path import isdir, join\n",
    "\n",
    "def get_dir(path_loc, only_dir=True):\n",
    "    result = []\n",
    "    for f in listdir(path_loc):\n",
    "        if only_dir:\n",
    "            if isdir(join(path_loc, f)):\n",
    "                result.append(f)\n",
    "        else:\n",
    "            result.append(f)\n",
    "    return result"
   ]
  },
  {
   "cell_type": "code",
   "execution_count": null,
   "metadata": {
    "colab": {
     "base_uri": "https://localhost:8080/"
    },
    "id": "6yX1FDFJoSjJ",
    "outputId": "b9dafc24-d5dc-42b4-b941-bc28afd03588"
   },
   "outputs": [],
   "source": [
    "#path_to_zip_file = '/content/gdrive/MyDrive/ColabNotebooks/flowers-recognition.zip'\n",
    "path_to_zip_file = '/content/gdrive/MyDrive/ColabNotebooks/work_pose.zip'\n",
    "!ls $path_to_zip_file"
   ]
  },
  {
   "cell_type": "code",
   "execution_count": null,
   "metadata": {
    "colab": {
     "base_uri": "https://localhost:8080/"
    },
    "id": "6jj55wzWCu1P",
    "outputId": "9a4a6b18-629d-4f26-ac62-2187cbb14491"
   },
   "outputs": [],
   "source": [
    "#already_extracted = False\n",
    "already_extracted = False if len(get_dir(working_dir_str))==0 else True\n",
    "print('already_extracted: ',already_extracted)\n",
    "if already_extracted==False:  \n",
    "  with zipfile.ZipFile(path_to_zip_file, 'r') as zip_ref:\n",
    "      zip_ref.extractall(working_dir_str)"
   ]
  },
  {
   "cell_type": "code",
   "execution_count": null,
   "metadata": {
    "id": "A-gPMak_pwjM"
   },
   "outputs": [],
   "source": [
    "#working_dir_str = working_dir_str + 'flowers/'"
   ]
  },
  {
   "cell_type": "code",
   "execution_count": null,
   "metadata": {
    "colab": {
     "base_uri": "https://localhost:8080/"
    },
    "id": "6NTk8HIHDirF",
    "outputId": "f47bdd4c-755d-4ba2-f93b-c087af7c9486"
   },
   "outputs": [],
   "source": [
    "!ls $working_dir_str"
   ]
  },
  {
   "cell_type": "code",
   "execution_count": null,
   "metadata": {
    "id": "GqmiBkK_e8GU"
   },
   "outputs": [],
   "source": [
    "!rm -r $working_dir_str'__MACOSX'"
   ]
  },
  {
   "cell_type": "code",
   "execution_count": null,
   "metadata": {
    "id": "6s3mfnLtEwlh"
   },
   "outputs": [],
   "source": [
    "from gtts import gTTS\n",
    "import IPython\n",
    "from IPython.core.display import display\n",
    "\n",
    "def text2audio(mytext):\n",
    "    print('text2audio: ',mytext)\n",
    "    myobj = gTTS(text=mytext, lang='en', slow=False)\n",
    "    myobj.save(\"./tts.mp3\")    \n",
    "    display(IPython.display.Audio(\"./tts.mp3\", autoplay=True))"
   ]
  },
  {
   "cell_type": "code",
   "execution_count": null,
   "metadata": {
    "id": "PlDdCW95sEA_"
   },
   "outputs": [],
   "source": [
    "np.random.seed(30)\n",
    "import random as rn\n",
    "rn.seed(30)\n",
    "tf.random.set_seed(30)"
   ]
  },
  {
   "cell_type": "markdown",
   "metadata": {
    "id": "GdSQrVRACu1P"
   },
   "source": [
    "# Create Data Set"
   ]
  },
  {
   "cell_type": "code",
   "execution_count": null,
   "metadata": {
    "id": "6fZfm0a4Cu1P"
   },
   "outputs": [],
   "source": [
    "batch_size = 32\n",
    "\n",
    "color_mode=\"rgb\"\n",
    "#color_mode=\"grayscale\""
   ]
  },
  {
   "cell_type": "code",
   "execution_count": null,
   "metadata": {
    "colab": {
     "base_uri": "https://localhost:8080/"
    },
    "id": "H6PCJGZoCu1Q",
    "outputId": "505abc02-e3e2-4e16-ae60-da53544a01cd"
   },
   "outputs": [],
   "source": [
    "print('working_dir_str: ', working_dir_str)\n",
    "!ls $working_dir_str"
   ]
  },
  {
   "cell_type": "code",
   "execution_count": null,
   "metadata": {
    "colab": {
     "base_uri": "https://localhost:8080/"
    },
    "id": "-28H_97GCu1Q",
    "outputId": "882d055f-514a-4425-9eaf-5f623757e3a7"
   },
   "outputs": [],
   "source": [
    "train_ds = tf.keras.preprocessing.image_dataset_from_directory(\n",
    "    working_dir_str, \n",
    "    label_mode='categorical',\n",
    "    batch_size=batch_size, image_size=(img_height, img_width), \n",
    "    shuffle=True, \n",
    "    seed=123, validation_split=0.2, subset='training', color_mode=color_mode\n",
    ")"
   ]
  },
  {
   "cell_type": "code",
   "execution_count": null,
   "metadata": {
    "colab": {
     "base_uri": "https://localhost:8080/"
    },
    "id": "8PLbqL4NCu1Q",
    "outputId": "26cc5b6b-b2a6-4c7e-e318-317ed291a653"
   },
   "outputs": [],
   "source": [
    "val_ds = tf.keras.preprocessing.image_dataset_from_directory(\n",
    "    working_dir_str, \n",
    "    label_mode='categorical',\n",
    "    batch_size=batch_size, image_size=(img_height, img_width), \n",
    "    shuffle=True, \n",
    "    seed=123, validation_split=0.2, subset='validation', color_mode=color_mode\n",
    ")"
   ]
  },
  {
   "cell_type": "code",
   "execution_count": null,
   "metadata": {
    "colab": {
     "base_uri": "https://localhost:8080/"
    },
    "id": "hUO4djpWCu1R",
    "outputId": "3764626e-dd8d-4369-81e8-0224615c3e8d"
   },
   "outputs": [],
   "source": [
    "class_names = train_ds.class_names\n",
    "print(class_names)"
   ]
  },
  {
   "cell_type": "code",
   "execution_count": null,
   "metadata": {
    "colab": {
     "base_uri": "https://localhost:8080/"
    },
    "id": "26BcWtjlCu1R",
    "outputId": "0e90be7d-e3dc-4a8b-e890-b3a0a0ea6b75"
   },
   "outputs": [],
   "source": [
    "num_classes = len(train_ds.class_names)\n",
    "num_classes"
   ]
  },
  {
   "cell_type": "markdown",
   "metadata": {
    "id": "GyquIfNKCu1S"
   },
   "source": [
    "### Visualize the data"
   ]
  },
  {
   "cell_type": "code",
   "execution_count": null,
   "metadata": {
    "colab": {
     "base_uri": "https://localhost:8080/",
     "height": 399
    },
    "id": "gwJZPYIXCu1S",
    "outputId": "cf9f2a6e-4f30-41d5-cfc9-60c3ce26378f"
   },
   "outputs": [],
   "source": [
    "#fix this\n",
    "plt.figure(figsize=(10, 10))\n",
    "for images, labels in train_ds.take(1):\n",
    "  #print(labels)\n",
    "  for i in range(num_classes):\n",
    "    ax = plt.subplot(3, 3, i + 1)\n",
    "    if color_mode==\"grayscale\":      \n",
    "      plt.imshow(images[i].numpy().astype(\"uint8\")[:, :, 0], cmap='gray') #\n",
    "    else:\n",
    "      plt.imshow(images[i].numpy().astype(\"uint8\"))\n",
    "    #plt.title(class_names[labels[i]])\n",
    "    score = tf.nn.softmax(labels[i])\n",
    "    plt.title( class_names[np.argmax(score)] )\n",
    "\n",
    "    #plt.title(class_names[get_class_label_index_from_categorical(labels[i])])\n",
    "    plt.axis(\"off\")"
   ]
  },
  {
   "cell_type": "code",
   "execution_count": null,
   "metadata": {
    "colab": {
     "base_uri": "https://localhost:8080/"
    },
    "id": "bVDNuI0HCu1S",
    "outputId": "c54a9451-96a0-42c5-ee58-e1a482b9cb55"
   },
   "outputs": [],
   "source": [
    "for image_batch, labels_batch in train_ds:\n",
    "  print(image_batch.shape)\n",
    "  print(labels_batch.shape)\n",
    "  break"
   ]
  },
  {
   "cell_type": "code",
   "execution_count": null,
   "metadata": {
    "id": "UhreyrGlCu1T"
   },
   "outputs": [],
   "source": [
    "AUTOTUNE = tf.data.experimental.AUTOTUNE\n",
    "\n",
    "train_ds = train_ds.cache().shuffle(1000).prefetch(buffer_size=AUTOTUNE)\n",
    "val_ds = val_ds.cache().prefetch(buffer_size=AUTOTUNE)"
   ]
  },
  {
   "cell_type": "markdown",
   "metadata": {
    "id": "9OkioesfCu1T"
   },
   "source": [
    "### Data Augumentation"
   ]
  },
  {
   "cell_type": "code",
   "execution_count": null,
   "metadata": {
    "colab": {
     "base_uri": "https://localhost:8080/"
    },
    "id": "hf6L_6-ukTmJ",
    "outputId": "12b73830-5735-402e-c275-183c5e69a5e6"
   },
   "outputs": [],
   "source": [
    "print('img_height:',img_height)\n",
    "print('img_width:',img_width)"
   ]
  },
  {
   "cell_type": "code",
   "execution_count": null,
   "metadata": {
    "id": "nsNbgPQHCu1T"
   },
   "outputs": [],
   "source": [
    "#https://towardsdatascience.com/writing-a-custom-data-augmentation-layer-in-keras-2b53e048a98\n",
    "class RandomColorDistortion(tf.keras.layers.Layer):\n",
    "    contrast_range=[-1.0, 1.0]\n",
    "    brightness_delta=[-50, 50]\n",
    "\n",
    "    def __init__(self, **kwargs):\n",
    "        super(RandomColorDistortion, self).__init__(**kwargs)\n",
    "\n",
    "    def update_cfg(self, cfg_to_use):\n",
    "        contrast_range = cfg_to_use['train_augumentation']['contrast_range']\n",
    "        brightness_delta = cfg_to_use['train_augumentation']['brightness_delta']\n",
    "\n",
    "    def call(self, images, training=True):\n",
    "        if not training:\n",
    "            return images\n",
    "\n",
    "        contrast = np.random.uniform(self.contrast_range[0], self.contrast_range[1])\n",
    "        brightness = np.random.uniform(self.brightness_delta[0], self.brightness_delta[1])\n",
    "\n",
    "        #print('brightness: ',brightness, ', contrast: ',contrast)\n",
    "\n",
    "        #images = tf.image.adjust_contrast(images, contrast)\n",
    "        images = tf.image.adjust_brightness(images, brightness)\n",
    "        images = tf.clip_by_value(images, 0, 255)\n",
    "        return images\n",
    "\n",
    "randomColorDistortion = RandomColorDistortion()\n",
    "randomColorDistortion.update_cfg(cfg)\n",
    "\n",
    "data_augmentation = Sequential(\n",
    "    [\n",
    "      layers.experimental.preprocessing.RandomRotation(\n",
    "        tuple(cfg['train_augumentation']['random_rotation']),\n",
    "        #(-0.03,0.03), #3% random rotation\n",
    "        input_shape=(img_height, img_width, 1 if color_mode==\"grayscale\" else 3)), \n",
    "        layers.experimental.preprocessing.RandomZoom(\n",
    "            tuple(cfg['train_augumentation']['random_zoom']) #(-0.05,0)  #5% random zoom-in\n",
    "            ),\n",
    "      randomColorDistortion,\n",
    "    ])"
   ]
  },
  {
   "cell_type": "code",
   "execution_count": null,
   "metadata": {
    "colab": {
     "base_uri": "https://localhost:8080/",
     "height": 538
    },
    "id": "5kyR7KKeCu1T",
    "outputId": "58d8b98c-2a8b-4547-9625-2570d3a5d32a"
   },
   "outputs": [],
   "source": [
    "# visualize how your augmentation strategy works for one instance of training image.\n",
    "plt.figure(figsize=(10, 10))\n",
    "for images, _ in train_ds.take(1):\n",
    "  img_index = 1\n",
    "  for i in range(9):\n",
    "    augmented_images = data_augmentation(images, training=True)\n",
    "    ax = plt.subplot(3, 3, i + 1)\n",
    "    if color_mode==\"grayscale\":      \n",
    "      plt.imshow(augmented_images[img_index].numpy().astype(\"uint8\")[:, :, 0], cmap='gray') #\n",
    "    else:\n",
    "      plt.imshow(augmented_images[img_index].numpy().astype(\"uint8\"))\n",
    "\n",
    "    plt.axis(\"off\")"
   ]
  },
  {
   "cell_type": "markdown",
   "metadata": {
    "id": "g0YgooxXxq7q"
   },
   "source": [
    "# Model"
   ]
  },
  {
   "cell_type": "code",
   "execution_count": null,
   "metadata": {
    "colab": {
     "base_uri": "https://localhost:8080/"
    },
    "id": "rob6qrddkA5K",
    "outputId": "233ab77f-d9e3-48eb-af61-063fef0fa768"
   },
   "outputs": [],
   "source": [
    "filepath = cfg['model_file']\n",
    "print('filepath:',filepath)\n",
    "print('train_freeze_base_layer: ', cfg['train_freeze_base_layer'])\n",
    "print('train_freeze_skip_last_layers: ', cfg['train_freeze_skip_last_layers'])"
   ]
  },
  {
   "cell_type": "code",
   "execution_count": null,
   "metadata": {
    "id": "r-QszhP5Cu1U"
   },
   "outputs": [],
   "source": [
    "# Callbacks\n",
    "\n",
    "checkpoint = ModelCheckpoint(filepath, monitor='val_loss', verbose=1, save_best_only=True, save_weights_only=False, mode='auto', save_freq=\"epoch\")\n",
    "\n",
    "LR = ReduceLROnPlateau(monitor='val_loss', factor=0.75, patience=4, cooldown=1) # write the REducelronplateau code here\n",
    "\n",
    "ES = EarlyStopping(monitor='val_loss', patience=15, verbose=1, mode=\"auto\")\n",
    "\n",
    "callbacks_list = [checkpoint, LR, ES]"
   ]
  },
  {
   "cell_type": "code",
   "execution_count": null,
   "metadata": {
    "colab": {
     "base_uri": "https://localhost:8080/"
    },
    "id": "aVauYtur0_-C",
    "outputId": "4dd7221d-1dc4-44b0-feac-7d254b90b2cc"
   },
   "outputs": [],
   "source": [
    "#model_to_try = 1 #base cnn\n",
    "model_to_try = 2 #transfer learning cnn\n",
    "\n",
    "print('model_to_try: ', model_to_try)"
   ]
  },
  {
   "cell_type": "code",
   "execution_count": null,
   "metadata": {
    "id": "poGfii6z0SEC"
   },
   "outputs": [],
   "source": [
    "if model_to_try==1:\n",
    "  #model - bare cnn\n",
    "  cnn_model = Sequential([\n",
    "    data_augmentation, \n",
    "    #tf.keras.layers.experimental.preprocessing.Rescaling(1./255),\n",
    "    tf.keras.layers.experimental.preprocessing.Normalization(), \n",
    "\n",
    "    Conv2D(16, (3, 3), padding='same', activation='relu'),\n",
    "    MaxPooling2D(pool_size=(2, 2)),\n",
    "    BatchNormalization(),\n",
    "\n",
    "    Conv2D(32, (3, 3), padding='same', activation='relu'),\n",
    "    MaxPooling2D(pool_size=(2, 2)),\n",
    "    BatchNormalization(),\n",
    "\n",
    "    Conv2D(64, (3, 3), padding='same', activation='relu'),\n",
    "    MaxPooling2D(pool_size=(2, 2)),\n",
    "    BatchNormalization(),\n",
    "\n",
    "    Conv2D(128, (3, 3), padding='same', activation='relu'),\n",
    "    MaxPooling2D(pool_size=(2, 2)),\n",
    "    BatchNormalization(),\n",
    "\n",
    "    Flatten(),\n",
    "\n",
    "    Dense(64, activation='relu'),\n",
    "    Dropout(0.50),\n",
    "    BatchNormalization(),\n",
    "\n",
    "    Dense(64, activation='relu'),\n",
    "    Dropout(0.50),\n",
    "    BatchNormalization(),\n",
    "\n",
    "    Dense(num_classes, activation='softmax')])"
   ]
  },
  {
   "cell_type": "code",
   "execution_count": null,
   "metadata": {
    "id": "hsMMvwvWCu1U"
   },
   "outputs": [],
   "source": [
    "#model - transfer learning\n",
    "if model_to_try==2:\n",
    "  conv_base = ResNet50V2(\n",
    "      include_top=False,\n",
    "      weights='imagenet',\n",
    "      input_shape=(img_height, img_width, 1 if color_mode==\"grayscale\" else 3))\n",
    "\n",
    "  if cfg['train_freeze_base_layer']:\n",
    "    # freeze all the weights of the model except the last 4 layers\n",
    "    for layer in conv_base.layers[:cfg['train_freeze_skip_last_layers']*-1]:\n",
    "        layer.trainable = False\n",
    "\n",
    "  cnn_model = Sequential([\n",
    "      data_augmentation, \n",
    "      #tf.keras.layers.experimental.preprocessing.Rescaling(1./255),\n",
    "      tf.keras.layers.experimental.preprocessing.Normalization(), \n",
    "      conv_base, \n",
    "\n",
    "      #MaxPooling2D(pool_size=(2, 2)),\n",
    "      GlobalAveragePooling2D(),\n",
    "      Flatten(),\n",
    "      BatchNormalization(),\n",
    "\n",
    "      #--- s --\n",
    "      Dense(256, activation='relu'),\n",
    "      Dropout(0.50),#40\n",
    "      BatchNormalization(),\n",
    "\n",
    "      Dense(128, activation='relu'),\n",
    "      Dropout(0.50),#40\n",
    "      BatchNormalization(),\n",
    "\n",
    "      Dense(64, activation='relu'),\n",
    "      Dropout(0.50),#40\n",
    "      BatchNormalization(),\n",
    "      #--- s --\n",
    "\n",
    "      #--- l --\n",
    "      #Dense(512, activation='relu'),\n",
    "      #Dropout(0.60),#40\n",
    "      #BatchNormalization(),\n",
    "\n",
    "      #Dense(256, activation='relu'),\n",
    "      #Dropout(0.60),\n",
    "      #BatchNormalization(),\n",
    "\n",
    "      #Dense(128, activation='relu'),\n",
    "      #Dropout(0.60),\n",
    "      #BatchNormalization(),\n",
    "\n",
    "      #Dense(64, activation='relu'),\n",
    "      #Dropout(0.10),\n",
    "      #BatchNormalization(),\n",
    "      #--- l --\n",
    "\n",
    "      Dense(num_classes, activation='softmax')\n",
    "    ])"
   ]
  },
  {
   "cell_type": "code",
   "execution_count": null,
   "metadata": {
    "colab": {
     "base_uri": "https://localhost:8080/"
    },
    "id": "ICd-ZJ0N071D",
    "outputId": "defee046-c7cb-4601-e8ac-d09465593ef5"
   },
   "outputs": [],
   "source": [
    "lr = 0.0001\n",
    "optimiser = keras.optimizers.Adam(learning_rate=lr)\n",
    "cnn_model.compile(optimizer=optimiser, loss='categorical_crossentropy', metrics=['accuracy'])\n",
    "print (cnn_model.summary())"
   ]
  },
  {
   "cell_type": "code",
   "execution_count": null,
   "metadata": {
    "colab": {
     "base_uri": "https://localhost:8080/"
    },
    "id": "ytl1cHqOCu1V",
    "outputId": "ee5707fd-2d9d-43f1-cc44-95590315f4a8"
   },
   "outputs": [],
   "source": [
    "### Train the model\n",
    "epochs = 50\n",
    "history = cnn_model.fit(\n",
    "    train_ds,\n",
    "    validation_data=val_ds,\n",
    "    epochs=epochs,\n",
    "    callbacks=callbacks_list,\n",
    "    initial_epoch = 0\n",
    ")"
   ]
  },
  {
   "cell_type": "markdown",
   "metadata": {
    "id": "o3oPWvfWCu1V"
   },
   "source": [
    "### Visualizing training results"
   ]
  },
  {
   "cell_type": "code",
   "execution_count": null,
   "metadata": {
    "id": "7XlT65jrCu1V"
   },
   "outputs": [],
   "source": [
    "# Visualizing training results\n",
    "acc = history.history['accuracy']\n",
    "val_acc = history.history['val_accuracy']\n",
    "\n",
    "loss = history.history['loss']\n",
    "val_loss = history.history['val_loss']\n",
    "\n",
    "#epochs_range = range(num_epochs)\n",
    "epochs_range = range(len(val_acc))\n",
    "\n",
    "plt.figure(figsize=(8, 8))\n",
    "plt.subplot(1, 2, 1)\n",
    "plt.plot(epochs_range, acc, label='Training Accuracy')\n",
    "plt.plot(epochs_range, val_acc, label='Validation Accuracy')\n",
    "plt.legend(loc='lower right')\n",
    "plt.title('Training and Validation Accuracy')\n",
    "\n",
    "plt.subplot(1, 2, 2)\n",
    "plt.plot(epochs_range, loss, label='Training Loss')\n",
    "plt.plot(epochs_range, val_loss, label='Validation Loss')\n",
    "plt.legend(loc='upper right')\n",
    "plt.title('Training and Validation Loss')\n",
    "plt.show()"
   ]
  },
  {
   "cell_type": "code",
   "execution_count": null,
   "metadata": {
    "id": "Qv9fgmGzCu1W"
   },
   "outputs": [],
   "source": [
    "text2audio('We got validation accuracy of '+str(round(history.history['val_accuracy'][-1]*100,2)))"
   ]
  },
  {
   "cell_type": "code",
   "execution_count": null,
   "metadata": {
    "id": "5sHpLu13lcfe"
   },
   "outputs": [],
   "source": [
    "#save json model file also\n",
    "from keras.models import model_from_json\n",
    "\n",
    "model_json = cnn_model.to_json()\n",
    "#print('model_json: ',model_json)\n",
    "\n",
    "with open(project_name+\".json\", \"w\") as json_file:\n",
    "    json_file.write(model_json)"
   ]
  },
  {
   "cell_type": "code",
   "execution_count": null,
   "metadata": {
    "id": "hRE-ZXQIvSuO"
   },
   "outputs": [],
   "source": [
    "#copy model file\n",
    "if is_google_colab:\n",
    "  !cp $filepath '/content/gdrive/MyDrive/ColabNotebooks/'"
   ]
  },
  {
   "cell_type": "code",
   "execution_count": null,
   "metadata": {
    "id": "ujMs2pWRCu1W"
   },
   "outputs": [],
   "source": [
    "#todo add code to see what failed most\n",
    "#run through val set and log case wise no and accuracy and log image of good and bad"
   ]
  },
  {
   "cell_type": "code",
   "execution_count": null,
   "metadata": {
    "id": "jmXaJHlgCu1W"
   },
   "outputs": [],
   "source": []
  },
  {
   "cell_type": "code",
   "execution_count": null,
   "metadata": {
    "id": "JNtBqHanPyX1"
   },
   "outputs": [],
   "source": []
  }
 ],
 "metadata": {
  "accelerator": "GPU",
  "colab": {
   "collapsed_sections": [],
   "name": "ImageClassificationTrainModel.ipynb",
   "provenance": []
  },
  "kernelspec": {
   "display_name": "Python 3",
   "language": "python",
   "name": "python3"
  },
  "language_info": {
   "codemirror_mode": {
    "name": "ipython",
    "version": 3
   },
   "file_extension": ".py",
   "mimetype": "text/x-python",
   "name": "python",
   "nbconvert_exporter": "python",
   "pygments_lexer": "ipython3",
   "version": "3.7.10"
  }
 },
 "nbformat": 4,
 "nbformat_minor": 4
}
