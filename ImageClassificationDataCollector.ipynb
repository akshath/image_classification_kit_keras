{
 "cells": [
  {
   "cell_type": "markdown",
   "metadata": {},
   "source": [
    "# Image Classification Data Collector"
   ]
  },
  {
   "cell_type": "code",
   "execution_count": null,
   "metadata": {},
   "outputs": [],
   "source": [
    "#---- Install stuff -------\n",
    "#!pip install --upgrade pip\n",
    "\n",
    "#!pip install opencv-python\n",
    "#!pip install tensorflow\n",
    "#!pip install numpy==1.19.5\n",
    "\n",
    "#!pip install Pillow\n",
    "#!pip install playsound\n",
    "#!pip install gTTS\n",
    "#!pip install pyobjc\n",
    "\n",
    "#!pip install matplotlib\n",
    "#!pip install pandas\n",
    "#!pip install seaborn\n",
    "\n",
    "#!pip install PyYAML"
   ]
  },
  {
   "cell_type": "code",
   "execution_count": null,
   "metadata": {},
   "outputs": [],
   "source": [
    "import os\n",
    "import time\n",
    "import random\n",
    "import shutil\n",
    "\n",
    "from glob import glob\n",
    "from pathlib import Path\n",
    "from datetime import datetime\n",
    "\n",
    "from gtts import gTTS\n",
    "from playsound import playsound\n",
    "\n",
    "from IPython.display import clear_output"
   ]
  },
  {
   "cell_type": "code",
   "execution_count": null,
   "metadata": {},
   "outputs": [],
   "source": [
    "import matplotlib.pyplot as plt\n",
    "import pandas as pd\n",
    "import seaborn as sns"
   ]
  },
  {
   "cell_type": "code",
   "execution_count": null,
   "metadata": {},
   "outputs": [],
   "source": [
    "%matplotlib inline\n",
    "\n",
    "import warnings\n",
    "warnings.filterwarnings('ignore')"
   ]
  },
  {
   "cell_type": "code",
   "execution_count": null,
   "metadata": {},
   "outputs": [],
   "source": [
    "import cv2\n",
    "from PIL import Image"
   ]
  },
  {
   "cell_type": "code",
   "execution_count": null,
   "metadata": {},
   "outputs": [],
   "source": [
    "#print system info\n",
    "import sys\n",
    "print('Python: ',sys.version)"
   ]
  },
  {
   "cell_type": "markdown",
   "metadata": {},
   "source": [
    "## Functions"
   ]
  },
  {
   "cell_type": "code",
   "execution_count": null,
   "metadata": {},
   "outputs": [],
   "source": [
    "import FileIOUtil\n",
    "import TTSUtil\n",
    "from ImageClassificationCfg import ImageClassificationCfg\n",
    "from LoadTestCNNUtil import LoadTestCNNUtil"
   ]
  },
  {
   "cell_type": "code",
   "execution_count": null,
   "metadata": {},
   "outputs": [],
   "source": [
    "def get_capture_dim(src_video):\n",
    "    try:\n",
    "        cap = cv2.VideoCapture(src_video)\n",
    "        if(cap.isOpened()):\n",
    "            ret, frame = cap.read()\n",
    "            return frame.shape\n",
    "        else:\n",
    "            return 0,0\n",
    "    finally:\n",
    "        cap.release()\n",
    "        cv2.destroyAllWindows()"
   ]
  },
  {
   "cell_type": "code",
   "execution_count": null,
   "metadata": {},
   "outputs": [],
   "source": [
    "def plot_image(images, captions=None, cmap=None):    \n",
    "    if captions!=None:\n",
    "        print(captions)\n",
    "    \n",
    "    if len(images) > 1:\n",
    "        f, axes = plt.subplots(1, len(images), sharey=True, figsize=(4,4))\n",
    "        f.set_figwidth(15)\n",
    "        for ax,image in zip(axes, images):\n",
    "            ax.imshow(image, cmap)\n",
    "    else:\n",
    "        plt.figure(figsize=(4,4))\n",
    "        plt.imshow(images[0])\n",
    "    plt.show()"
   ]
  },
  {
   "cell_type": "code",
   "execution_count": null,
   "metadata": {},
   "outputs": [],
   "source": [
    "def get_file_name():\n",
    "    return 'img_'+datetime.now().strftime(\"%Y%m%d%H%M%S\")\n",
    "#get_file_name()"
   ]
  },
  {
   "cell_type": "code",
   "execution_count": null,
   "metadata": {},
   "outputs": [],
   "source": [
    "def print_label_select(cfg_file):\n",
    "    for i in range(len(cfg_file.labels)):\n",
    "        print(f'[{labels_id[i]}] {cfg_file.labels[i]}')\n",
    "    sel = input('Select ([d] for del): ')\n",
    "    return sel"
   ]
  },
  {
   "cell_type": "code",
   "execution_count": null,
   "metadata": {},
   "outputs": [],
   "source": [
    "def save_frames(cfg_file, h,w, crop=True, count=1, delay_sec=60):\n",
    "    cap = None\n",
    "    if h==0 or w==0:\n",
    "        raise Exception('h or w can not be 0')\n",
    "    try:\n",
    "        cap = cv2.VideoCapture(cfg_file.cfg['src_video'])\n",
    "        #cap.set(cv2.CAP_PROP_BUFFERSIZE, 1)\n",
    "        \n",
    "        if(cap.isOpened()):\n",
    "            for i in range(0, count):\n",
    "                ret, frame = cap.read()\n",
    "                if not ret:\n",
    "                    print(\"failed to grab frame \")\n",
    "                    #raise Exception(\"failed to grab frame \")\n",
    "                    return None, None\n",
    "\n",
    "                #print('org shape: ',frame.shape)\n",
    "                frame = cv2.resize(frame, (w,h), interpolation = cv2.INTER_AREA)\n",
    "\n",
    "                if crop:\n",
    "                    if cfg_file.cfg['crop_image_from_left']>0:\n",
    "                        new_wl = int(w*cfg_file.cfg['crop_image_from_left'])\n",
    "                    else:\n",
    "                        new_wl = 0\n",
    "                        \n",
    "                    if cfg_file.cfg['crop_image_from_right']>0:\n",
    "                        #crop 70% on width from right\n",
    "                        new_wr = int(w*cfg_file.cfg['crop_image_from_right'])\n",
    "                    else:\n",
    "                        new_wr = w                    \n",
    "                        \n",
    "                    frame = frame[0:h,new_wl:new_wr]\n",
    "\n",
    "                img_name = cfg_file.loc_unknown+\"frame_{0}.png\".format(get_file_name())\n",
    "                cv2.imwrite(img_name, frame)\n",
    "\n",
    "                frame = cv2.cvtColor(frame, cv2.COLOR_BGR2RGB)\n",
    "                \n",
    "                if count>1:\n",
    "                    print('file saved: ',img_name)\n",
    "                    \n",
    "                if (i+1)!=count:\n",
    "                    #close and re-open else we will get old frame\n",
    "                    if cap != None:\n",
    "                        cap.release()\n",
    "                    #it take about 2 sec to open cam again\n",
    "                    if delay_sec>0:\n",
    "                        time.sleep(delay_sec-2) \n",
    "                    cap = cv2.VideoCapture(cfg_file.cfg['src_video'])\n",
    "                    if(cap.isOpened()==False):\n",
    "                        print('Could not open camera!')\n",
    "                        break            \n",
    "            return frame, img_name\n",
    "        else:\n",
    "            print('Could not open camera!')\n",
    "            return None, None\n",
    "    finally:\n",
    "        if cap != None:\n",
    "            cap.release()\n",
    "        cv2.destroyAllWindows()"
   ]
  },
  {
   "cell_type": "code",
   "execution_count": null,
   "metadata": {},
   "outputs": [],
   "source": [
    "def show_img_and_ask_label(cfg_file, frame, file):\n",
    "    plt.imshow(frame)\n",
    "    plt.show()\n",
    "    \n",
    "    if cnn != None:\n",
    "        (img_class, model_acc) = cnn.predict(file)\n",
    "        print('Model: {0} [{1}%]\\n'.format(img_class,model_acc))\n",
    "    \n",
    "    sel = print_label_select(cfg_file)\n",
    "    sel_array = sel.split(',')\n",
    "    if sel_array[0] == 'd':\n",
    "        print('Selected: Delete')\n",
    "        os.remove(file)\n",
    "    else:\n",
    "        for _sel in sel_array:\n",
    "            sel = int(_sel)\n",
    "            file_path = Path(file)                \n",
    "            new_loc = cfg_file.project_dir+cfg_file.labels[sel]+'/'+file_path.parts[-1]\n",
    "            print('Selected: ',cfg_file.labels[sel])\n",
    "            #print(new_loc)\n",
    "            shutil.copy2(file, new_loc)\n",
    "        os.remove(file)"
   ]
  },
  {
   "cell_type": "code",
   "execution_count": null,
   "metadata": {},
   "outputs": [],
   "source": [
    "def collect_image(cfg_file, count=1, delay_sec=60, collect_label=True):\n",
    "    if count==0:\n",
    "        print('min count is 1')\n",
    "        return\n",
    "    \n",
    "    frame, file = save_frames(cfg_file, img_h, img_w, crop=True, count=count, delay_sec=delay_sec)\n",
    "    \n",
    "    if count>1 or collect_label==False:\n",
    "        return frame, file\n",
    "    \n",
    "    if file!=None:\n",
    "        show_img_and_ask_label(cfg_file, frame, file)\n",
    " \n",
    "    return frame, file"
   ]
  },
  {
   "cell_type": "code",
   "execution_count": null,
   "metadata": {},
   "outputs": [],
   "source": [
    "def label_non_labeled(cfg_file):\n",
    "    all_images = glob(cfg_file.loc_unknown+cfg_file.cfg['file_ext'])\n",
    "    if len(all_images)==0:\n",
    "        print('Non labled folder is empty!')\n",
    "    for file in all_images:\n",
    "        clear_output(wait=True)\n",
    "\n",
    "        print('file: ',file)    \n",
    "        frame = Image.open(file)\n",
    "        show_img_and_ask_label(cfg_file, frame, file)"
   ]
  },
  {
   "cell_type": "code",
   "execution_count": null,
   "metadata": {},
   "outputs": [],
   "source": [
    "#take pic at time set\n",
    "def take_pics_bw_time(trigger_from, trigger_to, sleep_time_bw_pic = 5, skip_if_size_diff_less_than=-1):\n",
    "    print('Taking pics from: ',trigger_from,' to: ',trigger_to)\n",
    "    last_file_size = 0\n",
    "    while True:\n",
    "        try:\n",
    "            time_now = int(datetime.now().strftime(\"%H%M\"))\n",
    "            \n",
    "            if time_now>=trigger_from and time_now<=trigger_to:\n",
    "                last_frame, file = collect_image(cfg_file, count=1, delay_sec=0, collect_label=False)\n",
    "                if file != None:\n",
    "                    file_size = FileIOUtil.get_file_size(file)\n",
    "                    #print('file saved: ',file,', size: ',file_size,'kb')\n",
    "                    if skip_if_size_diff_less_than > -1:\n",
    "                        diff = abs(last_file_size - file_size)\n",
    "                        if diff < skip_if_size_diff_less_than:\n",
    "                            print('deleting '+file,', size: ',file_size,'kb')\n",
    "                            os.remove(file)\n",
    "                        else:\n",
    "                            print('file saved: ',file,', size: ',file_size,'kb')\n",
    "                    else:\n",
    "                        print('file saved: ',file,', size: ',file_size,'kb')\n",
    "                    last_file_size = file_size\n",
    "\n",
    "                time.sleep(sleep_time_bw_pic)\n",
    "            else:\n",
    "                time.sleep(60)\n",
    "        except KeyboardInterrupt:\n",
    "            print('Stopping..')\n",
    "            break"
   ]
  },
  {
   "cell_type": "code",
   "execution_count": null,
   "metadata": {},
   "outputs": [],
   "source": [
    "#img stats functions"
   ]
  },
  {
   "cell_type": "code",
   "execution_count": null,
   "metadata": {},
   "outputs": [],
   "source": [
    "def get_label_stats(label, cfg_file, show_image=True):\n",
    "    dir_loc = cfg_file.project_dir+label+'/'\n",
    "    all_images = glob(dir_loc+cfg_file.cfg['file_ext'])\n",
    "    int_len = len(all_images)\n",
    "    \n",
    "    str_len = str(len(all_images))\n",
    "    caption = 'Class: '+label.ljust(20, ' ')+'Count: '+str_len.rjust(3,' ')\n",
    "    \n",
    "    if show_image:\n",
    "        rand_img = []\n",
    "        max_rand = 5 if int_len>=5 else int_len\n",
    "\n",
    "        if int_len!=0:\n",
    "            for i in range(max_rand):\n",
    "                if(int_len>0):\n",
    "                    frame = Image.open(random.choice(all_images))\n",
    "                else:\n",
    "                    frame = Image.open(random.choice(i))\n",
    "                rand_img.append(frame)\n",
    "            plot_image(rand_img, caption)\n",
    "    else:\n",
    "        pass\n",
    "        #print(caption)\n",
    "    return int_len"
   ]
  },
  {
   "cell_type": "code",
   "execution_count": null,
   "metadata": {},
   "outputs": [],
   "source": [
    "#_ = get_label_stats(labels[0], show_image=True, file_ext='*.png')"
   ]
  },
  {
   "cell_type": "code",
   "execution_count": null,
   "metadata": {},
   "outputs": [],
   "source": [
    "#print image count stats\n",
    "import sys\n",
    "\n",
    "def print_img_stats(cfg_file, show_image=True):\n",
    "    total_img = 0\n",
    "    class_mis_df = pd.DataFrame(columns=['Class','Count'])\n",
    "    for i,label in enumerate(cfg_file.labels):\n",
    "        count = get_label_stats(label, cfg_file, show_image=show_image)\n",
    "        total_img += count\n",
    "        \n",
    "        row = {'Class':label, 'Count':count}\n",
    "        class_mis_df = class_mis_df[class_mis_df['Class']!=row['Class']] #check to prevent duplicate on re-run\n",
    "        class_mis_df = class_mis_df.append(row, ignore_index=True) \n",
    "    return class_mis_df"
   ]
  },
  {
   "cell_type": "code",
   "execution_count": null,
   "metadata": {},
   "outputs": [],
   "source": [
    "#print 1 random images per class from all class\n",
    "def show_1image_per_class(cfg_file):\n",
    "    plt.figure(figsize=(14, 14))\n",
    "    for i,label in enumerate(cfg_file.labels):\n",
    "        ax = plt.subplot(3, 3, i + 1)\n",
    "\n",
    "        dir_loc = cfg_file.project_dir+label+'/'\n",
    "        all_images = glob(dir_loc+cfg_file.cfg['file_ext'])\n",
    "\n",
    "        if len(all_images)!=0:\n",
    "            frame = Image.open(random.choice(all_images))\n",
    "            plt.imshow(frame)\n",
    "        else:\n",
    "            #plt.imshow(None)\n",
    "            pass        \n",
    "        plt.title(label)\n",
    "\n",
    "        plt.axis(\"off\")"
   ]
  },
  {
   "cell_type": "code",
   "execution_count": null,
   "metadata": {},
   "outputs": [],
   "source": [
    "def plot_image_stats():\n",
    "    print('Total Images: ',class_mis_df.Count.sum())\n",
    "    print('')\n",
    "    plt.figure(figsize=(8,4))\n",
    "    sns.barplot(data=class_mis_df, y='Class', x='Count')\n",
    "    plt.show()"
   ]
  },
  {
   "cell_type": "markdown",
   "metadata": {},
   "source": [
    "# Read Cfg"
   ]
  },
  {
   "cell_type": "code",
   "execution_count": null,
   "metadata": {},
   "outputs": [],
   "source": [
    "#refer to config_template.yml for example of how it should be\n",
    "\n",
    "#cfg_file = './project/flowers-recognition.yml'\n",
    "#cfg_file = './project/work_pose.yml'\n",
    "cfg_file = './project/home_presence.yml'\n",
    "\n",
    "cfg_file = ImageClassificationCfg(cfg_file)\n",
    "cfg_file.load()"
   ]
  },
  {
   "cell_type": "code",
   "execution_count": null,
   "metadata": {},
   "outputs": [],
   "source": [
    "cfg_file.log_info()"
   ]
  },
  {
   "cell_type": "code",
   "execution_count": null,
   "metadata": {},
   "outputs": [],
   "source": [
    "#org shape 1080, 1920\n",
    "capture_dim = get_capture_dim(cfg_file.cfg['src_video'])\n",
    "print('org dim: ',capture_dim)\n",
    "\n",
    "img_h = capture_dim[0]\n",
    "img_w = capture_dim[1]\n",
    "\n",
    "img_h = img_h//cfg_file.cfg['reduce_image_wh_by']\n",
    "img_w = img_w//cfg_file.cfg['reduce_image_wh_by']\n",
    "\n",
    "print('new dim h:',img_h)\n",
    "print('new dim w:',img_w)"
   ]
  },
  {
   "cell_type": "code",
   "execution_count": null,
   "metadata": {},
   "outputs": [],
   "source": [
    "#!ls $project_dir\n",
    "FileIOUtil.print_dir(cfg_file.project_dir, only_dir=True)"
   ]
  },
  {
   "cell_type": "code",
   "execution_count": null,
   "metadata": {},
   "outputs": [],
   "source": [
    "if cfg_file.cfg['labels_from_dir']==False:\n",
    "    if os.path.isdir(cfg_file.project_dir)==False:\n",
    "        os.mkdir(cfg_file.project_dir)\n",
    "    #!ls $project_dir\n",
    "    FileIOUtil.print_dir(cfg_file.project_dir, only_dir=True)\n",
    "\n",
    "    if os.path.isdir(cfg_file.project_temp_dir)==False:\n",
    "        os.mkdir(cfg_file.project_temp_dir)\n",
    "    #!ls $project_temp_dir\n",
    "    FileIOUtil.print_dir(cfg_file.project_temp_dir, only_dir=True)\n",
    "else:\n",
    "    print('We assume dir is alreay there.')"
   ]
  },
  {
   "cell_type": "code",
   "execution_count": null,
   "metadata": {},
   "outputs": [],
   "source": [
    "if os.path.isdir(cfg_file.project_temp_dir)==False:\n",
    "    os.mkdir(cfg_file.project_temp_dir)\n",
    "    \n",
    "if os.path.isdir(cfg_file.loc_unknown)==False:\n",
    "    os.mkdir(cfg_file.loc_unknown)\n",
    "    \n",
    "for label in cfg_file.labels:\n",
    "    if os.path.isdir(cfg_file.project_dir+label)==False:\n",
    "        os.mkdir(cfg_file.project_dir+label)"
   ]
  },
  {
   "cell_type": "code",
   "execution_count": null,
   "metadata": {},
   "outputs": [],
   "source": [
    "labels_id = [x for x in range(0,len(cfg_file.labels))]\n",
    "print(labels_id)"
   ]
  },
  {
   "cell_type": "code",
   "execution_count": null,
   "metadata": {},
   "outputs": [],
   "source": [
    "#if model file is there.. lets load it\n",
    "if cfg_file.cfg['model_file'] != '':\n",
    "    if os.path.isfile(cfg_file.cfg['model_file']):\n",
    "        cnn = LoadTestCNNUtil(cfg_file)\n",
    "        cnn.debug = False\n",
    "        cnn.load()"
   ]
  },
  {
   "cell_type": "markdown",
   "metadata": {},
   "source": [
    "# Collect Data"
   ]
  },
  {
   "cell_type": "code",
   "execution_count": null,
   "metadata": {},
   "outputs": [],
   "source": [
    "# todo if model file is present.. use that to predict class on capture"
   ]
  },
  {
   "cell_type": "code",
   "execution_count": null,
   "metadata": {},
   "outputs": [],
   "source": [
    "collect_data_type = 4\n",
    "\n",
    "if collect_data_type == 1:\n",
    "    #pick 1 quick image and label it\n",
    "    last_frame, file = collect_image(cfg_file, count=1, delay_sec=60)\n",
    "    #print(last_frame.shape)\n",
    "elif collect_data_type == 2:\n",
    "    #pick 20 quick image every \n",
    "    #2m - 120, 30img = 60m = 1h, \n",
    "    #5m - 300, 20img = 1.6h\n",
    "    #10m = 600, 20img = 3.3h\n",
    "    #15m - 900, 20 img = 5h\n",
    "    try:\n",
    "        last_frame, file = collect_image(cfg_file, count=40, delay_sec=120)\n",
    "    except KeyboardInterrupt: \n",
    "        print('Stopping..')\n",
    "elif collect_data_type == 3:\n",
    "    #pick 60 quick image every 2sec = 2m captured\n",
    "    try:\n",
    "        last_frame, file = collect_image(cfg_file, count=60, delay_sec=5)\n",
    "    except KeyboardInterrupt:\n",
    "        print('Stopping..')\n",
    "elif collect_data_type == 4:\n",
    "    #take pics b/w time windows, at 5sec interval. save only if size diff is over 2kb\n",
    "    take_pics_bw_time(trigger_from=630, trigger_to=830, sleep_time_bw_pic = 5, skip_if_size_diff_less_than=2)\n",
    "elif collect_data_type == 5:\n",
    "    #label all non labeled images\n",
    "    label_non_labeled(cfg_file)\n",
    "else:\n",
    "    print('Nothing to do!')"
   ]
  },
  {
   "cell_type": "markdown",
   "metadata": {},
   "source": [
    "# Data Stats"
   ]
  },
  {
   "cell_type": "code",
   "execution_count": null,
   "metadata": {},
   "outputs": [],
   "source": [
    "class_mis_df = print_img_stats(cfg_file, show_image=False)\n",
    "class_mis_df"
   ]
  },
  {
   "cell_type": "code",
   "execution_count": null,
   "metadata": {},
   "outputs": [],
   "source": [
    "plot_image_stats()"
   ]
  },
  {
   "cell_type": "code",
   "execution_count": null,
   "metadata": {},
   "outputs": [],
   "source": [
    "_ = print_img_stats(cfg_file, show_image=True)"
   ]
  },
  {
   "cell_type": "code",
   "execution_count": null,
   "metadata": {},
   "outputs": [],
   "source": [
    "show_1image_per_class(cfg_file)"
   ]
  },
  {
   "cell_type": "code",
   "execution_count": null,
   "metadata": {},
   "outputs": [],
   "source": []
  },
  {
   "cell_type": "code",
   "execution_count": null,
   "metadata": {},
   "outputs": [],
   "source": []
  },
  {
   "cell_type": "code",
   "execution_count": null,
   "metadata": {},
   "outputs": [],
   "source": []
  }
 ],
 "metadata": {
  "kernelspec": {
   "display_name": "Python 3",
   "language": "python",
   "name": "python3"
  },
  "language_info": {
   "codemirror_mode": {
    "name": "ipython",
    "version": 3
   },
   "file_extension": ".py",
   "mimetype": "text/x-python",
   "name": "python",
   "nbconvert_exporter": "python",
   "pygments_lexer": "ipython3",
   "version": "3.7.10"
  }
 },
 "nbformat": 4,
 "nbformat_minor": 4
}
