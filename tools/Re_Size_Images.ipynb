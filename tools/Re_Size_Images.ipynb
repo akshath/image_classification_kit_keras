{
  "nbformat": 4,
  "nbformat_minor": 0,
  "metadata": {
    "colab": {
      "name": "Re_Size_Images.ipynb",
      "provenance": [],
      "collapsed_sections": []
    },
    "kernelspec": {
      "name": "python3",
      "display_name": "Python 3"
    },
    "language_info": {
      "name": "python"
    }
  },
  "cells": [
    {
      "cell_type": "code",
      "metadata": {
        "id": "DrVJeYnnH6d6"
      },
      "source": [
        "#---- Install stuff -------\n",
        "!pip install --upgrade pip\n",
        "\n",
        "!pip install opencv-python\n",
        "!pip install Pillow\n",
        "\n",
        "!pip install playsound\n",
        "!pip install gTTS\n",
        "#---- Install stuff -------\n"
      ],
      "execution_count": null,
      "outputs": []
    },
    {
      "cell_type": "code",
      "metadata": {
        "id": "1x-p6tb4IWne"
      },
      "source": [
        "%matplotlib inline\n",
        "\n",
        "import warnings\n",
        "warnings.filterwarnings('ignore')"
      ],
      "execution_count": null,
      "outputs": []
    },
    {
      "cell_type": "code",
      "metadata": {
        "id": "-cyjG8hgISJD"
      },
      "source": [
        "import os\n",
        "from glob import glob\n",
        "from pathlib import Path\n",
        "\n",
        "import cv2\n",
        "from PIL import Image\n",
        "import matplotlib.pyplot as plt\n",
        "\n",
        "from gtts import gTTS\n",
        "from playsound import playsound\n",
        "import random"
      ],
      "execution_count": null,
      "outputs": []
    },
    {
      "cell_type": "code",
      "metadata": {
        "id": "SK7j9fM8Ok6p"
      },
      "source": [
        "from IPython.display import clear_output"
      ],
      "execution_count": null,
      "outputs": []
    },
    {
      "cell_type": "code",
      "metadata": {
        "id": "NXRNmboFMYjm"
      },
      "source": [
        "import pycode.FileIOUtil\n",
        "import pycode.TTSUtil\n",
        "\n",
        "from pycode.ImageClassificationCfg import ImageClassificationCfg\n",
        "from pycode.LoadAndTestCNNUtil import LoadAndTestCNNUtil"
      ],
      "execution_count": null,
      "outputs": []
    },
    {
      "cell_type": "code",
      "metadata": {
        "id": "Il_O-E3WIXF5"
      },
      "source": [
        "#print system info\n",
        "import sys\n",
        "print('Python: ',sys.version)"
      ],
      "execution_count": null,
      "outputs": []
    },
    {
      "cell_type": "code",
      "metadata": {
        "id": "Myw3caFhIZcx"
      },
      "source": [
        "is_google_colab = True"
      ],
      "execution_count": null,
      "outputs": []
    },
    {
      "cell_type": "code",
      "metadata": {
        "id": "-aHBbb9ZIhph"
      },
      "source": [
        "## If you are using the data by mounting the google drive, use the following :\n",
        "if is_google_colab:\n",
        "    from google.colab import drive\n",
        "    drive.mount('/content/gdrive')\n",
        "    ##Ref:https://towardsdatascience.com/downloading-datasets-into-google-drive-via-google-colab-bcb1b30b0166"
      ],
      "execution_count": null,
      "outputs": []
    },
    {
      "cell_type": "code",
      "metadata": {
        "id": "lPSPER5uL0cm"
      },
      "source": [
        "#read cfg file\n",
        "if is_google_colab:\n",
        "  cfg_file = '/content/gdrive/MyDrive/akshath/cfg.yml'\n",
        "\n",
        "cfg_file = ImageClassificationCfg(cfg_file)\n",
        "cfg_file.load()\n",
        "\n",
        "cfg_file.log_info()"
      ],
      "execution_count": null,
      "outputs": []
    },
    {
      "cell_type": "code",
      "metadata": {
        "id": "2U3P2fk5IjH5"
      },
      "source": [
        "data_dir = './data/'\n",
        "\n",
        "if is_google_colab:\n",
        "  #data dir\n",
        "  data_dir = '/content/gdrive/MyDrive/Colab Notebooks/Hackathon/project/pigeons_detection/data/'\n",
        "  !ls '$data_dir'"
      ],
      "execution_count": null,
      "outputs": []
    },
    {
      "cell_type": "code",
      "metadata": {
        "id": "T_Z0_eTmIokR"
      },
      "source": [
        "all_images = glob(data_dir+'*/*.png')"
      ],
      "execution_count": null,
      "outputs": []
    },
    {
      "cell_type": "code",
      "metadata": {
        "id": "8ROkVZQwJUeZ"
      },
      "source": [
        "len(all_images)"
      ],
      "execution_count": null,
      "outputs": []
    },
    {
      "cell_type": "code",
      "metadata": {
        "id": "LV2K9MOwJU5Y"
      },
      "source": [
        "all_images[0]"
      ],
      "execution_count": null,
      "outputs": []
    },
    {
      "cell_type": "code",
      "metadata": {
        "id": "Uhczaq28NEKn"
      },
      "source": [
        "#lets get a good sample\n",
        "img_file = random.choice(all_images)\n",
        "print(img_file)\n",
        "\n",
        "good_image = cv2.imread(img_file, 1)\n",
        "print(good_image.shape)\n",
        "plt.imshow(good_image)\n",
        "plt.show()"
      ],
      "execution_count": null,
      "outputs": []
    },
    {
      "cell_type": "code",
      "metadata": {
        "id": "QZUaR5CzKyuG"
      },
      "source": [
        "img_h = good_image.shape[0]\n",
        "img_w = good_image.shape[1]\n",
        "print('good dim h:',img_h)\n",
        "print('good dim w:',img_w)"
      ],
      "execution_count": null,
      "outputs": []
    },
    {
      "cell_type": "code",
      "metadata": {
        "id": "joPauqyDNvMI"
      },
      "source": [
        "#select image to work with"
      ],
      "execution_count": null,
      "outputs": []
    },
    {
      "cell_type": "code",
      "metadata": {
        "id": "TThQZUPJNqWG"
      },
      "source": [
        "while True:\n",
        "  img_file = random.choice(all_images)\n",
        "  frame = cv2.imread(img_file, 1)\n",
        "    \n",
        "  if frame.shape[0]!=360:\n",
        "    break\n",
        "print(img_file)\n",
        "print(frame.shape)\n",
        "plt.imshow(frame)\n",
        "plt.show()"
      ],
      "execution_count": null,
      "outputs": []
    },
    {
      "cell_type": "code",
      "metadata": {
        "id": "Jn2vyjFDKmoo"
      },
      "source": [
        "def fix_image(frame, filename):\n",
        "  img_h = frame.shape[0]\n",
        "  img_w = frame.shape[1]\n",
        "  #print('current dim h:',img_h)\n",
        "  #print('current dim w:',img_w)\n",
        "\n",
        "  h = img_h//cfg_file.cfg['reduce_image_wh_by']\n",
        "  w = img_w//cfg_file.cfg['reduce_image_wh_by']\n",
        "  #print('new dim h:',h)\n",
        "  #print('new dim w:',w)\n",
        "\n",
        "  frame = cv2.resize(frame, (w,h), interpolation = cv2.INTER_AREA)\n",
        "\n",
        "  new_wl = int(w*cfg_file.cfg['crop_image_from_left'])\n",
        "  new_wr = int(w*cfg_file.cfg['crop_image_from_right'])\n",
        "\n",
        "  if cfg_file.cfg['crop_image_from_left']>0:\n",
        "      new_wl = int(w*cfg_file.cfg['crop_image_from_left'])\n",
        "  else:\n",
        "      new_wl = 0\n",
        "      \n",
        "  if cfg_file.cfg['crop_image_from_right']>0:\n",
        "      #crop 70% on width from right\n",
        "      new_wr = int(w*cfg_file.cfg['crop_image_from_right'])\n",
        "  else:\n",
        "      new_wr = w                    \n",
        "      \n",
        "  frame = frame[0:h,new_wl:new_wr]\n",
        "\n",
        "  #print(frame.shape)\n",
        "  #plt.imshow(frame)\n",
        "  #plt.show()\n",
        "  \n",
        "  cv2.imwrite(img_file, frame)"
      ],
      "execution_count": null,
      "outputs": []
    },
    {
      "cell_type": "code",
      "metadata": {
        "id": "8s3aIz98NqHf"
      },
      "source": [
        "fix_image(frame, img_file)"
      ],
      "execution_count": null,
      "outputs": []
    },
    {
      "cell_type": "code",
      "metadata": {
        "id": "hHY9ss50RP5y"
      },
      "source": [
        "#test again\n",
        "fixed_image = cv2.imread(img_file, 1)\n",
        "print(fixed_image.shape)\n",
        "plt.imshow(fixed_image)\n",
        "plt.show()"
      ],
      "execution_count": null,
      "outputs": []
    },
    {
      "cell_type": "code",
      "metadata": {
        "id": "GyIjApIdgnm4"
      },
      "source": [
        "#lets do for all\n",
        "count = 0\n",
        "print(f'Total images: {len(all_images)}')\n",
        "for img_file in all_images:\n",
        "  frame = cv2.imread(img_file, 1)\n",
        "    \n",
        "  if frame.shape[0]!=360:\n",
        "    fix_image(frame, img_file)\n",
        "    count += 1\n",
        "print(f'Fixed {count} images')"
      ],
      "execution_count": null,
      "outputs": []
    },
    {
      "cell_type": "code",
      "metadata": {
        "id": "CxbXb2KChYHb"
      },
      "source": [
        "#!zip -r '/content/gdrive/MyDrive/Colab Notebooks/Hackathon/project/pigeons_detection.zip' '$data_dir'"
      ],
      "execution_count": null,
      "outputs": []
    },
    {
      "cell_type": "code",
      "metadata": {
        "id": "aaGjV3Kjl_Ju"
      },
      "source": [
        ""
      ],
      "execution_count": null,
      "outputs": []
    }
  ]
}