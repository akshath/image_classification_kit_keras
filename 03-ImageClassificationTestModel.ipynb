{
  "nbformat": 4,
  "nbformat_minor": 0,
  "metadata": {
    "kernelspec": {
      "name": "python3",
      "display_name": "Python 3"
    },
    "colab": {
      "name": "03-ImageClassificationTestModel.ipynb",
      "provenance": [],
      "collapsed_sections": []
    },
    "language_info": {
      "name": "python"
    }
  },
  "cells": [
    {
      "cell_type": "markdown",
      "metadata": {
        "id": "anpkn_CPJlXK"
      },
      "source": [
        "# Image Classification Test Model"
      ]
    },
    {
      "cell_type": "markdown",
      "metadata": {
        "id": "Q6IK0_RwJlXR"
      },
      "source": [
        "#### Project Url: https://github.com/akshath/image_classification_kit_keras"
      ]
    },
    {
      "cell_type": "code",
      "metadata": {
        "id": "NX1sWz2BJlXS",
        "colab": {
          "base_uri": "https://localhost:8080/"
        },
        "outputId": "3dbf9ab6-0a5e-463f-bdd4-a4f9545b18c1"
      },
      "source": [
        "#---- Install stuff -------\n",
        "!pip install --upgrade pip\n",
        "\n",
        "!pip install opencv-python\n",
        "!pip install tensorflow\n",
        "!pip install numpy==1.19.5\n",
        "\n",
        "!pip install Pillow\n",
        "!pip install playsound\n",
        "!pip install gTTS\n",
        "!pip install pyobjc\n",
        "\n",
        "!pip install matplotlib\n",
        "!pip install pandas\n",
        "!pip install seaborn\n",
        "\n",
        "!pip install PyYAML"
      ],
      "execution_count": 1,
      "outputs": [
        {
          "output_type": "stream",
          "name": "stdout",
          "text": [
            "Requirement already satisfied: pip in /usr/local/lib/python3.7/dist-packages (21.1.3)\n",
            "Collecting pip\n",
            "  Downloading pip-21.3-py3-none-any.whl (1.7 MB)\n",
            "\u001b[K     |████████████████████████████████| 1.7 MB 4.0 MB/s \n",
            "\u001b[?25hInstalling collected packages: pip\n",
            "  Attempting uninstall: pip\n",
            "    Found existing installation: pip 21.1.3\n",
            "    Uninstalling pip-21.1.3:\n",
            "      Successfully uninstalled pip-21.1.3\n",
            "Successfully installed pip-21.3\n",
            "Requirement already satisfied: opencv-python in /usr/local/lib/python3.7/dist-packages (4.1.2.30)\n",
            "Requirement already satisfied: numpy>=1.14.5 in /usr/local/lib/python3.7/dist-packages (from opencv-python) (1.19.5)\n",
            "\u001b[33mWARNING: Running pip as the 'root' user can result in broken permissions and conflicting behaviour with the system package manager. It is recommended to use a virtual environment instead: https://pip.pypa.io/warnings/venv\u001b[0m\n",
            "Requirement already satisfied: tensorflow in /usr/local/lib/python3.7/dist-packages (2.6.0)\n",
            "Requirement already satisfied: clang~=5.0 in /usr/local/lib/python3.7/dist-packages (from tensorflow) (5.0)\n",
            "Requirement already satisfied: tensorboard~=2.6 in /usr/local/lib/python3.7/dist-packages (from tensorflow) (2.6.0)\n",
            "Requirement already satisfied: numpy~=1.19.2 in /usr/local/lib/python3.7/dist-packages (from tensorflow) (1.19.5)\n",
            "Requirement already satisfied: google-pasta~=0.2 in /usr/local/lib/python3.7/dist-packages (from tensorflow) (0.2.0)\n",
            "Requirement already satisfied: astunparse~=1.6.3 in /usr/local/lib/python3.7/dist-packages (from tensorflow) (1.6.3)\n",
            "Requirement already satisfied: h5py~=3.1.0 in /usr/local/lib/python3.7/dist-packages (from tensorflow) (3.1.0)\n",
            "Requirement already satisfied: opt-einsum~=3.3.0 in /usr/local/lib/python3.7/dist-packages (from tensorflow) (3.3.0)\n",
            "Requirement already satisfied: flatbuffers~=1.12.0 in /usr/local/lib/python3.7/dist-packages (from tensorflow) (1.12)\n",
            "Requirement already satisfied: absl-py~=0.10 in /usr/local/lib/python3.7/dist-packages (from tensorflow) (0.12.0)\n",
            "Requirement already satisfied: wrapt~=1.12.1 in /usr/local/lib/python3.7/dist-packages (from tensorflow) (1.12.1)\n",
            "Requirement already satisfied: grpcio<2.0,>=1.37.0 in /usr/local/lib/python3.7/dist-packages (from tensorflow) (1.41.0)\n",
            "Requirement already satisfied: wheel~=0.35 in /usr/local/lib/python3.7/dist-packages (from tensorflow) (0.37.0)\n",
            "Requirement already satisfied: keras~=2.6 in /usr/local/lib/python3.7/dist-packages (from tensorflow) (2.6.0)\n",
            "Requirement already satisfied: protobuf>=3.9.2 in /usr/local/lib/python3.7/dist-packages (from tensorflow) (3.17.3)\n",
            "Requirement already satisfied: six~=1.15.0 in /usr/local/lib/python3.7/dist-packages (from tensorflow) (1.15.0)\n",
            "Requirement already satisfied: termcolor~=1.1.0 in /usr/local/lib/python3.7/dist-packages (from tensorflow) (1.1.0)\n",
            "Requirement already satisfied: typing-extensions~=3.7.4 in /usr/local/lib/python3.7/dist-packages (from tensorflow) (3.7.4.3)\n",
            "Requirement already satisfied: gast==0.4.0 in /usr/local/lib/python3.7/dist-packages (from tensorflow) (0.4.0)\n",
            "Requirement already satisfied: tensorflow-estimator~=2.6 in /usr/local/lib/python3.7/dist-packages (from tensorflow) (2.6.0)\n",
            "Requirement already satisfied: keras-preprocessing~=1.1.2 in /usr/local/lib/python3.7/dist-packages (from tensorflow) (1.1.2)\n",
            "Requirement already satisfied: cached-property in /usr/local/lib/python3.7/dist-packages (from h5py~=3.1.0->tensorflow) (1.5.2)\n",
            "Requirement already satisfied: google-auth-oauthlib<0.5,>=0.4.1 in /usr/local/lib/python3.7/dist-packages (from tensorboard~=2.6->tensorflow) (0.4.6)\n",
            "Requirement already satisfied: markdown>=2.6.8 in /usr/local/lib/python3.7/dist-packages (from tensorboard~=2.6->tensorflow) (3.3.4)\n",
            "Requirement already satisfied: setuptools>=41.0.0 in /usr/local/lib/python3.7/dist-packages (from tensorboard~=2.6->tensorflow) (57.4.0)\n",
            "Requirement already satisfied: tensorboard-plugin-wit>=1.6.0 in /usr/local/lib/python3.7/dist-packages (from tensorboard~=2.6->tensorflow) (1.8.0)\n",
            "Requirement already satisfied: requests<3,>=2.21.0 in /usr/local/lib/python3.7/dist-packages (from tensorboard~=2.6->tensorflow) (2.23.0)\n",
            "Requirement already satisfied: werkzeug>=0.11.15 in /usr/local/lib/python3.7/dist-packages (from tensorboard~=2.6->tensorflow) (1.0.1)\n",
            "Requirement already satisfied: tensorboard-data-server<0.7.0,>=0.6.0 in /usr/local/lib/python3.7/dist-packages (from tensorboard~=2.6->tensorflow) (0.6.1)\n",
            "Requirement already satisfied: google-auth<2,>=1.6.3 in /usr/local/lib/python3.7/dist-packages (from tensorboard~=2.6->tensorflow) (1.35.0)\n",
            "Requirement already satisfied: cachetools<5.0,>=2.0.0 in /usr/local/lib/python3.7/dist-packages (from google-auth<2,>=1.6.3->tensorboard~=2.6->tensorflow) (4.2.4)\n",
            "Requirement already satisfied: pyasn1-modules>=0.2.1 in /usr/local/lib/python3.7/dist-packages (from google-auth<2,>=1.6.3->tensorboard~=2.6->tensorflow) (0.2.8)\n",
            "Requirement already satisfied: rsa<5,>=3.1.4 in /usr/local/lib/python3.7/dist-packages (from google-auth<2,>=1.6.3->tensorboard~=2.6->tensorflow) (4.7.2)\n",
            "Requirement already satisfied: requests-oauthlib>=0.7.0 in /usr/local/lib/python3.7/dist-packages (from google-auth-oauthlib<0.5,>=0.4.1->tensorboard~=2.6->tensorflow) (1.3.0)\n",
            "Requirement already satisfied: importlib-metadata in /usr/local/lib/python3.7/dist-packages (from markdown>=2.6.8->tensorboard~=2.6->tensorflow) (4.8.1)\n",
            "Requirement already satisfied: chardet<4,>=3.0.2 in /usr/local/lib/python3.7/dist-packages (from requests<3,>=2.21.0->tensorboard~=2.6->tensorflow) (3.0.4)\n",
            "Requirement already satisfied: urllib3!=1.25.0,!=1.25.1,<1.26,>=1.21.1 in /usr/local/lib/python3.7/dist-packages (from requests<3,>=2.21.0->tensorboard~=2.6->tensorflow) (1.24.3)\n",
            "Requirement already satisfied: idna<3,>=2.5 in /usr/local/lib/python3.7/dist-packages (from requests<3,>=2.21.0->tensorboard~=2.6->tensorflow) (2.10)\n",
            "Requirement already satisfied: certifi>=2017.4.17 in /usr/local/lib/python3.7/dist-packages (from requests<3,>=2.21.0->tensorboard~=2.6->tensorflow) (2021.5.30)\n",
            "Requirement already satisfied: pyasn1<0.5.0,>=0.4.6 in /usr/local/lib/python3.7/dist-packages (from pyasn1-modules>=0.2.1->google-auth<2,>=1.6.3->tensorboard~=2.6->tensorflow) (0.4.8)\n",
            "Requirement already satisfied: oauthlib>=3.0.0 in /usr/local/lib/python3.7/dist-packages (from requests-oauthlib>=0.7.0->google-auth-oauthlib<0.5,>=0.4.1->tensorboard~=2.6->tensorflow) (3.1.1)\n",
            "Requirement already satisfied: zipp>=0.5 in /usr/local/lib/python3.7/dist-packages (from importlib-metadata->markdown>=2.6.8->tensorboard~=2.6->tensorflow) (3.6.0)\n",
            "\u001b[33mWARNING: Running pip as the 'root' user can result in broken permissions and conflicting behaviour with the system package manager. It is recommended to use a virtual environment instead: https://pip.pypa.io/warnings/venv\u001b[0m\n",
            "Requirement already satisfied: numpy==1.19.5 in /usr/local/lib/python3.7/dist-packages (1.19.5)\n",
            "\u001b[33mWARNING: Running pip as the 'root' user can result in broken permissions and conflicting behaviour with the system package manager. It is recommended to use a virtual environment instead: https://pip.pypa.io/warnings/venv\u001b[0m\n",
            "Requirement already satisfied: Pillow in /usr/local/lib/python3.7/dist-packages (7.1.2)\n",
            "\u001b[33mWARNING: Running pip as the 'root' user can result in broken permissions and conflicting behaviour with the system package manager. It is recommended to use a virtual environment instead: https://pip.pypa.io/warnings/venv\u001b[0m\n",
            "Collecting playsound\n",
            "  Downloading playsound-1.3.0.tar.gz (7.7 kB)\n",
            "  Preparing metadata (setup.py) ... \u001b[?25l\u001b[?25hdone\n",
            "Building wheels for collected packages: playsound\n",
            "  Building wheel for playsound (setup.py) ... \u001b[?25l\u001b[?25hdone\n",
            "  Created wheel for playsound: filename=playsound-1.3.0-py3-none-any.whl size=7037 sha256=6ab4c1aa5db0064ba1ab81f1c2a166b40b9c2a3fd0b9e8ccc11dd4cfde8cd99e\n",
            "  Stored in directory: /root/.cache/pip/wheels/ba/f8/bb/ea57c0146b664dca3a0ada4199b0ecb5f9dfcb7b7e22b65ba2\n",
            "Successfully built playsound\n",
            "Installing collected packages: playsound\n",
            "Successfully installed playsound-1.3.0\n",
            "\u001b[33mWARNING: Running pip as the 'root' user can result in broken permissions and conflicting behaviour with the system package manager. It is recommended to use a virtual environment instead: https://pip.pypa.io/warnings/venv\u001b[0m\n",
            "Collecting gTTS\n",
            "  Downloading gTTS-2.2.3-py3-none-any.whl (25 kB)\n",
            "Requirement already satisfied: click in /usr/local/lib/python3.7/dist-packages (from gTTS) (7.1.2)\n",
            "Requirement already satisfied: six in /usr/local/lib/python3.7/dist-packages (from gTTS) (1.15.0)\n",
            "Requirement already satisfied: requests in /usr/local/lib/python3.7/dist-packages (from gTTS) (2.23.0)\n",
            "Requirement already satisfied: certifi>=2017.4.17 in /usr/local/lib/python3.7/dist-packages (from requests->gTTS) (2021.5.30)\n",
            "Requirement already satisfied: idna<3,>=2.5 in /usr/local/lib/python3.7/dist-packages (from requests->gTTS) (2.10)\n",
            "Requirement already satisfied: urllib3!=1.25.0,!=1.25.1,<1.26,>=1.21.1 in /usr/local/lib/python3.7/dist-packages (from requests->gTTS) (1.24.3)\n",
            "Requirement already satisfied: chardet<4,>=3.0.2 in /usr/local/lib/python3.7/dist-packages (from requests->gTTS) (3.0.4)\n",
            "Installing collected packages: gTTS\n",
            "Successfully installed gTTS-2.2.3\n",
            "\u001b[33mWARNING: Running pip as the 'root' user can result in broken permissions and conflicting behaviour with the system package manager. It is recommended to use a virtual environment instead: https://pip.pypa.io/warnings/venv\u001b[0m\n",
            "Collecting pyobjc\n",
            "  Downloading pyobjc-7.3-py3-none-any.whl (3.0 kB)\n",
            "Collecting pyobjc-core==7.3\n",
            "  Downloading pyobjc-core-7.3.tar.gz (684 kB)\n",
            "     |████████████████████████████████| 684 kB 2.1 MB/s            \n",
            "\u001b[?25h  Preparing metadata (setup.py) ... \u001b[?25l\u001b[?25herror\n",
            "\u001b[33mWARNING: Discarding https://files.pythonhosted.org/packages/50/eb/a358e36731f5cb3b824ca27d2260f7f6acbd0d1f63c971ca83b4627d9ec6/pyobjc-core-7.3.tar.gz#sha256=5081aedf8bb40aac1a8ad95adac9e44e148a882686ded614adf46bb67fd67574 (from https://pypi.org/simple/pyobjc-core/) (requires-python:>=3.6). Command errored out with exit status 1: python setup.py egg_info Check the logs for full command output.\u001b[0m\n",
            "Collecting pyobjc\n",
            "  Downloading pyobjc-7.2-py3-none-any.whl (3.0 kB)\n",
            "Collecting pyobjc-framework-CoreText==7.2\n",
            "  Downloading pyobjc-framework-CoreText-7.2.tar.gz (120 kB)\n",
            "     |████████████████████████████████| 120 kB 59.2 MB/s            \n",
            "\u001b[?25h  Preparing metadata (setup.py) ... \u001b[?25l\u001b[?25herror\n",
            "\u001b[33mWARNING: Discarding https://files.pythonhosted.org/packages/61/27/e35efa8625c16eee8d2dc3cddcd430643a3d1ce8d7cc0417143b90567e09/pyobjc-framework-CoreText-7.2.tar.gz#sha256=8e3e52298073bf75c33fdc0c9f19c5d5c03b32cc507a4138386ea0e9886fd5d1 (from https://pypi.org/simple/pyobjc-framework-coretext/) (requires-python:>=3.6). Command errored out with exit status 1: python setup.py egg_info Check the logs for full command output.\u001b[0m\n",
            "Collecting pyobjc\n",
            "  Downloading pyobjc-7.1-py3-none-any.whl (3.0 kB)\n",
            "Collecting pyobjc-framework-SystemConfiguration==7.1\n",
            "  Downloading pyobjc-framework-SystemConfiguration-7.1.tar.gz (73 kB)\n",
            "     |████████████████████████████████| 73 kB 1.6 MB/s             \n",
            "\u001b[?25h  Preparing metadata (setup.py) ... \u001b[?25l\u001b[?25herror\n",
            "\u001b[33mWARNING: Discarding https://files.pythonhosted.org/packages/87/33/1ca7598ba6f2105b82cd1ba031e3c4c0b108088c795eb8084a9e3fda7ed6/pyobjc-framework-SystemConfiguration-7.1.tar.gz#sha256=f2e0cb6045c79f10ab71b6e995dd01d0976b6a56fc5b6b42c03e7088c392ebd2 (from https://pypi.org/simple/pyobjc-framework-systemconfiguration/) (requires-python:>=3.6). Command errored out with exit status 1: python setup.py egg_info Check the logs for full command output.\u001b[0m\n",
            "Collecting pyobjc\n",
            "  Downloading pyobjc-7.0.1-py3-none-any.whl (3.1 kB)\n",
            "Collecting pyobjc-framework-SecurityFoundation==7.0.1\n",
            "  Downloading pyobjc_framework_SecurityFoundation-7.0.1-py2.py3-none-any.whl (3.1 kB)\n",
            "Collecting pyobjc-framework-SecurityInterface==7.0.1\n",
            "  Downloading pyobjc-framework-SecurityInterface-7.0.1.tar.gz (23 kB)\n",
            "  Preparing metadata (setup.py) ... \u001b[?25l\u001b[?25herror\n",
            "\u001b[33mWARNING: Discarding https://files.pythonhosted.org/packages/3b/f5/de48a10c4ea582b8176cb5787f933b3f45c1c63b179de0ec9355fdbbd409/pyobjc-framework-SecurityInterface-7.0.1.tar.gz#sha256=29431feead2321b0c34b79e94e096bea631053fb40092dde17fd07dd88ed8a7f (from https://pypi.org/simple/pyobjc-framework-securityinterface/) (requires-python:>=3.6). Command errored out with exit status 1: python setup.py egg_info Check the logs for full command output.\u001b[0m\n",
            "Collecting pyobjc\n",
            "  Downloading pyobjc-7.0-py3-none-any.whl (3.0 kB)\n",
            "Collecting pyobjc-framework-ExceptionHandling==7.0\n",
            "  Downloading pyobjc_framework_ExceptionHandling-7.0-py2.py3-none-any.whl (7.3 kB)\n",
            "Collecting pyobjc-framework-DiskArbitration==7.0\n",
            "  Downloading pyobjc_framework_DiskArbitration-7.0-py2.py3-none-any.whl (4.3 kB)\n",
            "Collecting pyobjc-framework-Security==7.0\n",
            "  Downloading pyobjc-framework-Security-7.0.tar.gz (112 kB)\n",
            "     |████████████████████████████████| 112 kB 63.6 MB/s            \n",
            "\u001b[?25h  Preparing metadata (setup.py) ... \u001b[?25l\u001b[?25herror\n",
            "\u001b[33mWARNING: Discarding https://files.pythonhosted.org/packages/65/6d/89b529b826089e4f06487c6ed60e83765230c3f05972980ba378eec42290/pyobjc-framework-Security-7.0.tar.gz#sha256=de2e16d1c1144de1affd5671d18ca078743945a10502a56b36b46d97eb61eda6 (from https://pypi.org/simple/pyobjc-framework-security/) (requires-python:>=3.6). Command errored out with exit status 1: python setup.py egg_info Check the logs for full command output.\u001b[0m\n",
            "Collecting pyobjc\n",
            "  Downloading pyobjc-6.2.2-py3-none-any.whl (2.9 kB)\n",
            "Collecting pyobjc-framework-Quartz==6.2.2\n",
            "  Downloading pyobjc-framework-Quartz-6.2.2.tar.gz (3.4 MB)\n",
            "     |████████████████████████████████| 3.4 MB 64.0 MB/s            \n",
            "\u001b[?25h  Preparing metadata (setup.py) ... \u001b[?25l\u001b[?25herror\n",
            "\u001b[33mWARNING: Discarding https://files.pythonhosted.org/packages/99/c1/cb74227d3264d662b999555512613336ae9215ea55956ea4b41c70f4e76c/pyobjc-framework-Quartz-6.2.2.tar.gz#sha256=5a56cfc0289061eaf33f04e3c73e749e04f177b0c1ee8749aa46e87d1e897cda (from https://pypi.org/simple/pyobjc-framework-quartz/) (requires-python:>=3.6). Command errored out with exit status 1: python setup.py egg_info Check the logs for full command output.\u001b[0m\n",
            "Collecting pyobjc\n",
            "  Downloading pyobjc-6.2.1-py3-none-any.whl (2.9 kB)\n",
            "Collecting pyobjc-framework-Security==6.2.1\n",
            "  Downloading pyobjc-framework-Security-6.2.1.tar.gz (62 kB)\n",
            "     |████████████████████████████████| 62 kB 1.3 MB/s             \n",
            "\u001b[?25h  Preparing metadata (setup.py) ... \u001b[?25l\u001b[?25herror\n",
            "\u001b[33mWARNING: Discarding https://files.pythonhosted.org/packages/e9/a8/184fe27213c98ffe907ce0e48f991e2e932acb8ce820aecaab7643756d21/pyobjc-framework-Security-6.2.1.tar.gz#sha256=4a0a27d2507c4d82417d6ec3e188d0d08ad269494d68a57ec54fd9e7b30e718f (from https://pypi.org/simple/pyobjc-framework-security/) (requires-python:>=3.6). Command errored out with exit status 1: python setup.py egg_info Check the logs for full command output.\u001b[0m\n",
            "Collecting pyobjc\n",
            "  Downloading pyobjc-6.2-py3-none-any.whl (2.9 kB)\n",
            "Collecting pyobjc-framework-SecurityFoundation==6.2\n",
            "  Downloading pyobjc_framework_SecurityFoundation-6.2-py2.py3-none-any.whl (3.1 kB)\n",
            "Collecting pyobjc-framework-SecurityInterface==6.2\n",
            "  Downloading pyobjc-framework-SecurityInterface-6.2.tar.gz (22 kB)\n",
            "  Preparing metadata (setup.py) ... \u001b[?25l\u001b[?25herror\n",
            "\u001b[33mWARNING: Discarding https://files.pythonhosted.org/packages/15/88/1898d36c7c9cc6bec9f067b4be9c0f786357da73ab7333bdb52a8f9562bd/pyobjc-framework-SecurityInterface-6.2.tar.gz#sha256=44b59e57d8c1a1bfadd5e17c3cdf361f84cc7afdaabc7333394d0276d4c85f53 (from https://pypi.org/simple/pyobjc-framework-securityinterface/) (requires-python:>=3.6). Command errored out with exit status 1: python setup.py egg_info Check the logs for full command output.\u001b[0m\n",
            "Collecting pyobjc\n",
            "  Downloading pyobjc-6.1-py3-none-any.whl (2.9 kB)\n",
            "Collecting pyobjc-framework-Quartz==6.1\n",
            "  Downloading pyobjc-framework-Quartz-6.1.tar.gz (3.4 MB)\n",
            "     |████████████████████████████████| 3.4 MB 28.4 MB/s            \n",
            "\u001b[?25h  Preparing metadata (setup.py) ... \u001b[?25l\u001b[?25herror\n",
            "\u001b[33mWARNING: Discarding https://files.pythonhosted.org/packages/8a/53/4caef6d7cb2730c8314cbc83eb1f87c218c0d5b6a4fd98990e3bd00cb2d7/pyobjc-framework-Quartz-6.1.tar.gz#sha256=dc96a7c8b22264579f5438e2f9fc6c7f905412c5b297a750acce00f50aa87ca5 (from https://pypi.org/simple/pyobjc-framework-quartz/) (requires-python:>=3.6). Command errored out with exit status 1: python setup.py egg_info Check the logs for full command output.\u001b[0m\n",
            "Collecting pyobjc\n",
            "  Downloading pyobjc-6.0.1-py3-none-any.whl (2.9 kB)\n",
            "Collecting pyobjc-core==6.0.1\n",
            "  Downloading pyobjc-core-6.0.1.tar.gz (790 kB)\n",
            "     |████████████████████████████████| 790 kB 67.2 MB/s            \n",
            "\u001b[?25h  Preparing metadata (setup.py) ... \u001b[?25l\u001b[?25herror\n",
            "\u001b[33mWARNING: Discarding https://files.pythonhosted.org/packages/0e/28/0c26e0410f6b7751a4f360b01a61c66054fe3cec7678ea4d6da33e8cf2b7/pyobjc-core-6.0.1.tar.gz#sha256=9a4d77ac4e3e4d01567d65a0ea11530c059a3966c164dc458c8d9b0ba773b9b4 (from https://pypi.org/simple/pyobjc-core/) (requires-python:>=3.6). Command errored out with exit status 1: python setup.py egg_info Check the logs for full command output.\u001b[0m\n",
            "Collecting pyobjc\n",
            "  Downloading pyobjc-6.0-py3-none-any.whl (2.9 kB)\n",
            "Collecting pyobjc-framework-SecurityFoundation==6.0\n",
            "  Downloading pyobjc_framework_SecurityFoundation-6.0-py2.py3-none-any.whl (3.1 kB)\n",
            "Collecting pyobjc-framework-SecurityInterface==6.0\n",
            "  Downloading pyobjc-framework-SecurityInterface-6.0.tar.gz (23 kB)\n",
            "  Preparing metadata (setup.py) ... \u001b[?25l\u001b[?25herror\n",
            "\u001b[33mWARNING: Discarding https://files.pythonhosted.org/packages/5d/f2/d75c055937fd8e0d66e170b23d39c252300f4f7e308dcb0342ab9447dfd8/pyobjc-framework-SecurityInterface-6.0.tar.gz#sha256=5c688177b95431424c66704113933d01a22de327340856b9ef266d4507c00c36 (from https://pypi.org/simple/pyobjc-framework-securityinterface/) (requires-python:>=3.6). Command errored out with exit status 1: python setup.py egg_info Check the logs for full command output.\u001b[0m\n",
            "Collecting pyobjc\n",
            "  Downloading pyobjc-5.3-py3-none-any.whl (2.7 kB)\n",
            "Collecting pyobjc-framework-OSAKit==5.3\n",
            "  Downloading pyobjc_framework_OSAKit-5.3-py2.py3-none-any.whl (3.5 kB)\n",
            "Collecting pyobjc-framework-LaunchServices==5.3\n",
            "  Downloading pyobjc_framework_LaunchServices-5.3-py2.py3-none-any.whl (3.3 kB)\n",
            "Collecting pyobjc-framework-CoreText==5.3\n",
            "  Downloading pyobjc-framework-CoreText-5.3.tar.gz (124 kB)\n",
            "     |████████████████████████████████| 124 kB 55.4 MB/s            \n",
            "\u001b[?25h  Preparing metadata (setup.py) ... \u001b[?25l\u001b[?25herror\n",
            "\u001b[33mWARNING: Discarding https://files.pythonhosted.org/packages/e5/8c/8d09c59bae44d76a6c1d70ad8b628ace69e54ae3da1b8f54ee8006da39c0/pyobjc-framework-CoreText-5.3.tar.gz#sha256=9784c94d5ca8dcf6af3fe37ddbe112ac77b48eff340677a97e0060f5b673b4c2 (from https://pypi.org/simple/pyobjc-framework-coretext/). Command errored out with exit status 1: python setup.py egg_info Check the logs for full command output.\u001b[0m\n",
            "Collecting pyobjc\n",
            "  Downloading pyobjc-5.2-py3-none-any.whl (2.7 kB)\n",
            "Collecting pyobjc-framework-ExceptionHandling==5.2\n",
            "  Downloading pyobjc_framework_ExceptionHandling-5.2-py2.py3-none-any.whl (7.3 kB)\n",
            "Collecting pyobjc-core==5.2\n",
            "  Downloading pyobjc-core-5.2.tar.gz (797 kB)\n",
            "     |████████████████████████████████| 797 kB 14.5 MB/s            \n",
            "\u001b[?25h  Preparing metadata (setup.py) ... \u001b[?25l\u001b[?25herror\n",
            "\u001b[33mWARNING: Discarding https://files.pythonhosted.org/packages/d3/f5/07579f2986f2eb639932626f69a082598f5e6d4535e1f54a331d9efa97d7/pyobjc-core-5.2.tar.gz#sha256=cd13a2e9be890064a6dd11db7790bbf38502350c532a9a9d05511abb8683b8ea (from https://pypi.org/simple/pyobjc-core/). Command errored out with exit status 1: python setup.py egg_info Check the logs for full command output.\u001b[0m\n",
            "Collecting pyobjc\n",
            "  Downloading pyobjc-5.1.2-py3-none-any.whl (2.8 kB)\n",
            "Collecting pyobjc-framework-SystemConfiguration==5.1.2\n",
            "  Downloading pyobjc-framework-SystemConfiguration-5.1.2.tar.gz (85 kB)\n",
            "     |████████████████████████████████| 85 kB 4.6 MB/s             \n",
            "\u001b[?25h  Preparing metadata (setup.py) ... \u001b[?25l\u001b[?25herror\n",
            "\u001b[33mWARNING: Discarding https://files.pythonhosted.org/packages/c7/bd/618300d5315a5f3dbb85e4549c1b9300a59018ddf08fa5835a259dce0194/pyobjc-framework-SystemConfiguration-5.1.2.tar.gz#sha256=695eb9f48e95a801d3aecc2a03f4333775bced1bb5f27419b658cb6a62dcc9ef (from https://pypi.org/simple/pyobjc-framework-systemconfiguration/). Command errored out with exit status 1: python setup.py egg_info Check the logs for full command output.\u001b[0m\n",
            "Collecting pyobjc\n",
            "  Downloading pyobjc-5.1.1-py3-none-any.whl (2.8 kB)\n",
            "Collecting pyobjc-framework-AddressBook==5.1.1\n",
            "  Downloading pyobjc-framework-AddressBook-5.1.1.tar.gz (75 kB)\n",
            "     |████████████████████████████████| 75 kB 3.3 MB/s             \n",
            "\u001b[?25h  Preparing metadata (setup.py) ... \u001b[?25l\u001b[?25herror\n",
            "\u001b[33mWARNING: Discarding https://files.pythonhosted.org/packages/98/39/b70b63ebbb611fb8cba884d2898641bc8113a72fa015920402a29286a059/pyobjc-framework-AddressBook-5.1.1.tar.gz#sha256=73e8d5d2070eeb4bad4599cadc4145f2938cf5bbf8ad65b7cbc5561a5c9dcbcb (from https://pypi.org/simple/pyobjc-framework-addressbook/). Command errored out with exit status 1: python setup.py egg_info Check the logs for full command output.\u001b[0m\n",
            "Collecting pyobjc\n",
            "  Downloading pyobjc-5.1-py3-none-any.whl (2.7 kB)\n",
            "Collecting pyobjc-framework-Security==5.1\n",
            "  Downloading pyobjc-framework-Security-5.1.tar.gz (104 kB)\n",
            "     |████████████████████████████████| 104 kB 71.3 MB/s            \n",
            "\u001b[?25h  Preparing metadata (setup.py) ... \u001b[?25l\u001b[?25herror\n",
            "\u001b[33mWARNING: Discarding https://files.pythonhosted.org/packages/9c/e3/0d76c69e12e8b55613849ce6f94874293a75659795b1bdf0a22df48b30b6/pyobjc-framework-Security-5.1.tar.gz#sha256=a99e51d42d1626b286db9f3295f372818e6d72cd45967e75e772a9b283bed13c (from https://pypi.org/simple/pyobjc-framework-security/). Command errored out with exit status 1: python setup.py egg_info Check the logs for full command output.\u001b[0m\n",
            "Collecting pyobjc\n",
            "  Downloading pyobjc-5.0-py3-none-any.whl (2.7 kB)\n",
            "Collecting pyobjc-framework-SyncServices==5.0\n",
            "  Downloading pyobjc-framework-SyncServices-5.0.tar.gz (41 kB)\n",
            "     |████████████████████████████████| 41 kB 651 kB/s             \n",
            "\u001b[?25h  Preparing metadata (setup.py) ... \u001b[?25l\u001b[?25herror\n",
            "\u001b[33mWARNING: Discarding https://files.pythonhosted.org/packages/97/06/79c9d0ba06540b14ecae895f2efe394e9f8b2d432970276dc6943f342b9d/pyobjc-framework-SyncServices-5.0.tar.gz#sha256=487f27a65f95c43f63e2ba0406f820f7a7a554d30919cc1312a6a8a853cbdef1 (from https://pypi.org/simple/pyobjc-framework-syncservices/). Command errored out with exit status 1: python setup.py egg_info Check the logs for full command output.\u001b[0m\n",
            "Collecting pyobjc\n",
            "  Downloading pyobjc-4.2.2-py3-none-any.whl (2.7 kB)\n",
            "Collecting pyobjc-framework-CoreServices==4.2.2\n",
            "  Downloading pyobjc_framework_CoreServices-4.2.2-py2.py3-none-any.whl (2.5 kB)\n",
            "Collecting pyobjc-framework-SecurityFoundation==4.2.2\n",
            "  Downloading pyobjc_framework_SecurityFoundation-4.2.2-py2.py3-none-any.whl (3.1 kB)\n",
            "Collecting pyobjc-framework-SecurityInterface==4.2.2\n",
            "  Downloading pyobjc-framework-SecurityInterface-4.2.2.tar.gz (23 kB)\n",
            "  Preparing metadata (setup.py) ... \u001b[?25l\u001b[?25herror\n",
            "\u001b[33mWARNING: Discarding https://files.pythonhosted.org/packages/77/1a/9e28c991d05886bfbcf0a448b942ff910fffe1ffd0245ab6d5ccae4bd178/pyobjc-framework-SecurityInterface-4.2.2.tar.gz#sha256=802ce75eebaf6d1b6d5e7041173070eb76c9b720cf427e9291217cafd8854441 (from https://pypi.org/simple/pyobjc-framework-securityinterface/). Command errored out with exit status 1: python setup.py egg_info Check the logs for full command output.\u001b[0m\n",
            "Collecting pyobjc\n",
            "  Downloading pyobjc-4.2.1-py3-none-any.whl (4.8 kB)\n",
            "Collecting pyobjc-framework-CoreServices==4.2.1\n",
            "  Downloading pyobjc_framework_CoreServices-4.2.1-py2.py3-none-any.whl (4.0 kB)\n",
            "Collecting pyobjc-framework-DiskArbitration==4.2.1\n",
            "  Downloading pyobjc_framework_DiskArbitration-4.2.1-py2.py3-none-any.whl (5.8 kB)\n",
            "Collecting pyobjc-framework-AddressBook==4.2.1\n",
            "  Downloading pyobjc-framework-AddressBook-4.2.1.tar.gz (75 kB)\n",
            "     |████████████████████████████████| 75 kB 3.7 MB/s             \n",
            "\u001b[?25h  Preparing metadata (setup.py) ... \u001b[?25l\u001b[?25herror\n",
            "\u001b[33mWARNING: Discarding https://files.pythonhosted.org/packages/76/42/21160d15f90a805290d5ae76bce5a71ac20a63814ed6f8d463ec6d3a8f64/pyobjc-framework-AddressBook-4.2.1.tar.gz#sha256=497b96482984843d2f59f4c8fc5136bc85412894dee4799c7dd17c30927bb38c (from https://pypi.org/simple/pyobjc-framework-addressbook/). Command errored out with exit status 1: python setup.py egg_info Check the logs for full command output.\u001b[0m\n",
            "Collecting pyobjc\n",
            "  Downloading pyobjc-4.2-py3-none-any.whl (4.7 kB)\n",
            "Collecting pyobjc-framework-CoreText==4.2\n",
            "  Downloading pyobjc-framework-CoreText-4.2.tar.gz (122 kB)\n",
            "     |████████████████████████████████| 122 kB 62.5 MB/s            \n",
            "\u001b[?25h  Preparing metadata (setup.py) ... \u001b[?25l\u001b[?25herror\n",
            "\u001b[33mWARNING: Discarding https://files.pythonhosted.org/packages/02/29/088b01b921329577fd211b46124ad057aacd516bde76be66177992fa83fd/pyobjc-framework-CoreText-4.2.tar.gz#sha256=e26c50f0318274d2c94cb09f4649ab68612fa3bf884bf287d87720d58bce396c (from https://pypi.org/simple/pyobjc-framework-coretext/). Command errored out with exit status 1: python setup.py egg_info Check the logs for full command output.\u001b[0m\n",
            "Collecting pyobjc\n",
            "  Downloading pyobjc-4.1-py3-none-any.whl (4.7 kB)\n",
            "Collecting pyobjc-framework-ExceptionHandling==4.1\n",
            "  Downloading pyobjc_framework_ExceptionHandling-4.1-py2.py3-none-any.whl (8.0 kB)\n",
            "Collecting pyobjc-framework-ApplicationServices==4.1\n",
            "  Downloading pyobjc_framework_ApplicationServices-4.1-py2.py3-none-any.whl (14 kB)\n",
            "Collecting pyobjc-framework-Security==4.1\n",
            "  Downloading pyobjc-framework-Security-4.1.tar.gz (101 kB)\n",
            "     |████████████████████████████████| 101 kB 10.7 MB/s           \n",
            "\u001b[?25h  Preparing metadata (setup.py) ... \u001b[?25l\u001b[?25herror\n",
            "\u001b[33mWARNING: Discarding https://files.pythonhosted.org/packages/a6/d2/fb7eafdc63f518aebfc1aba2c3d205bad753c2b1d2bceaf56c6bc1f45aec/pyobjc-framework-Security-4.1.tar.gz#sha256=d1ed4e9fcad66e4f68f8ca2e766c6d5685ee79b1d1e21362edbcde6b4c9795de (from https://pypi.org/simple/pyobjc-framework-security/). Command errored out with exit status 1: python setup.py egg_info Check the logs for full command output.\u001b[0m\n",
            "Collecting pyobjc\n",
            "  Downloading pyobjc-4.0.1.tar.gz (5.5 kB)\n",
            "  Preparing metadata (setup.py) ... \u001b[?25l\u001b[?25herror\n",
            "\u001b[33mWARNING: Discarding https://files.pythonhosted.org/packages/3b/8c/9fa153eef2da2cb8da9fe0da81077baa2fc57cabaa94b0ece5d6b216b976/pyobjc-4.0.1.tar.gz#sha256=79b634b24926baef45c066dca80a163c9b5292142580364fa9fed321486a60e0 (from https://pypi.org/simple/pyobjc/). Command errored out with exit status 1: python setup.py egg_info Check the logs for full command output.\u001b[0m\n",
            "  Downloading pyobjc-4.0.tar.gz (5.4 kB)\n",
            "  Preparing metadata (setup.py) ... \u001b[?25l\u001b[?25herror\n",
            "\u001b[33mWARNING: Discarding https://files.pythonhosted.org/packages/bb/c3/81601bf5ffad2fefe244fcd1d3e43cf298be1b5a712e8a518f098f66f2e0/pyobjc-4.0.tar.gz#sha256=6bf9912cb97330a4df7fc5268b5812ebc5374da4ef71af1747979b816646a64f (from https://pypi.org/simple/pyobjc/). Command errored out with exit status 1: python setup.py egg_info Check the logs for full command output.\u001b[0m\n",
            "  Downloading pyobjc-3.2.1.tar.gz (4.6 kB)\n",
            "  Preparing metadata (setup.py) ... \u001b[?25l\u001b[?25herror\n",
            "\u001b[33mWARNING: Discarding https://files.pythonhosted.org/packages/b0/5f/37274eb6f816f395185e2298cf51fc098cb49e1a8e758b0493d29aa463f0/pyobjc-3.2.1.tar.gz#sha256=6cf373bf68f4f5e2cbc0ba7bc073e5f1b879f7454dcdcb8b07105512c37804ac (from https://pypi.org/simple/pyobjc/). Command errored out with exit status 1: python setup.py egg_info Check the logs for full command output.\u001b[0m\n",
            "  Downloading pyobjc-3.2.tar.gz (4.5 kB)\n",
            "  Preparing metadata (setup.py) ... \u001b[?25l\u001b[?25herror\n",
            "\u001b[33mWARNING: Discarding https://files.pythonhosted.org/packages/ae/3d/98c6e835339d6901b3d5dca21b6de96bd9b4c62d3a5a9f80273cba1c774f/pyobjc-3.2.tar.gz#sha256=e06ebb416f024bbb43a64ede0199727d30925283caf8b09dd937a875565f5679 (from https://pypi.org/simple/pyobjc/). Command errored out with exit status 1: python setup.py egg_info Check the logs for full command output.\u001b[0m\n",
            "  Downloading pyobjc-3.1.1.tar.gz (3.7 kB)\n",
            "  Preparing metadata (setup.py) ... \u001b[?25l\u001b[?25herror\n",
            "\u001b[33mWARNING: Discarding https://files.pythonhosted.org/packages/4f/00/de0b0d0b140a34ba2581031dcefe7b826ac06a27152b4c9554cc83d505af/pyobjc-3.1.1.tar.gz#sha256=4d183bf14294e14eaf4c0d4d95fa30c1c15234bfecc2247becf4894bcb3fe675 (from https://pypi.org/simple/pyobjc/). Command errored out with exit status 1: python setup.py egg_info Check the logs for full command output.\u001b[0m\n",
            "  Downloading pyobjc-3.1.tar.gz (3.7 kB)\n",
            "  Preparing metadata (setup.py) ... \u001b[?25l\u001b[?25herror\n",
            "\u001b[33mWARNING: Discarding https://files.pythonhosted.org/packages/6b/fd/8918a9a4346e7b7517ca3ef58112655b8032b9d4c0caf7987b993866f2ec/pyobjc-3.1.tar.gz#sha256=674a8e913572562a2bd44c21f1abea59b3dd1adedcf625a211808b6e87b09aed (from https://pypi.org/simple/pyobjc/). Command errored out with exit status 1: python setup.py egg_info Check the logs for full command output.\u001b[0m\n",
            "  Downloading pyobjc-3.0.4.tar.gz (2.9 kB)\n",
            "  Preparing metadata (setup.py) ... \u001b[?25l\u001b[?25herror\n",
            "\u001b[33mWARNING: Discarding https://files.pythonhosted.org/packages/9c/89/a587357903983d173a4dc89d8956778edffd642d0e7559c54534e74fa1e9/pyobjc-3.0.4.tar.gz#sha256=54fc9ce7422e3c5dbc9dae5334920ae6c2d6cfba9cb6077ed80f6cb644bb669b (from https://pypi.org/simple/pyobjc/). Command errored out with exit status 1: python setup.py egg_info Check the logs for full command output.\u001b[0m\n",
            "  Downloading pyobjc-3.0.3.tar.gz (2.9 kB)\n",
            "  Preparing metadata (setup.py) ... \u001b[?25l\u001b[?25herror\n",
            "\u001b[33mWARNING: Discarding https://files.pythonhosted.org/packages/e6/9a/0d8c8e8712569aa9f85059dcb982c35e613ed6679f3dcb8709435e967332/pyobjc-3.0.3.tar.gz#sha256=7cc2948a024f40b4c1cdbe3713045bb236a142e1d82c42f28a3eb1b9554bdb55 (from https://pypi.org/simple/pyobjc/). Command errored out with exit status 1: python setup.py egg_info Check the logs for full command output.\u001b[0m\n",
            "  Downloading pyobjc-3.0.2.tar.gz (2.9 kB)\n",
            "  Preparing metadata (setup.py) ... \u001b[?25l\u001b[?25herror\n",
            "\u001b[33mWARNING: Discarding https://files.pythonhosted.org/packages/36/bd/78c7a579190855722187231f68fbc6cb90c7637caae193b7c3996e3ff94e/pyobjc-3.0.2.tar.gz#sha256=715b87c408e4a9fb4298c06afee8b32ef2c56037c3981849ca58709f205fd45a (from https://pypi.org/simple/pyobjc/). Command errored out with exit status 1: python setup.py egg_info Check the logs for full command output.\u001b[0m\n",
            "  Downloading pyobjc-3.0.1.tar.gz (2.9 kB)\n",
            "  Preparing metadata (setup.py) ... \u001b[?25l\u001b[?25herror\n",
            "\u001b[33mWARNING: Discarding https://files.pythonhosted.org/packages/f6/0a/86d7878520724693b8c07ddb4946d3f8e80810bc98386c4f293950832def/pyobjc-3.0.1.tar.gz#sha256=6d003d9c21d123575eef5167888238a794ea1cdc5587b686df99491f5bc69070 (from https://pypi.org/simple/pyobjc/). Command errored out with exit status 1: python setup.py egg_info Check the logs for full command output.\u001b[0m\n",
            "  Downloading pyobjc-2.5.1.tar.gz (2.8 kB)\n",
            "  Preparing metadata (setup.py) ... \u001b[?25l\u001b[?25herror\n",
            "\u001b[33mWARNING: Discarding https://files.pythonhosted.org/packages/b1/d2/5a2a7b8a6db813b20e7e07c63a5404d114f54dffa4933ce019d7b226c02b/pyobjc-2.5.1.tar.gz#sha256=96338c40e1aa1c7ab62bcccb790c4df385710697d69480b8c91f1cb24a9758ee (from https://pypi.org/simple/pyobjc/). Command errored out with exit status 1: python setup.py egg_info Check the logs for full command output.\u001b[0m\n",
            "  Downloading pyobjc-2.4.tar.gz (2.7 kB)\n",
            "  Preparing metadata (setup.py) ... \u001b[?25l\u001b[?25herror\n",
            "\u001b[33mWARNING: Discarding https://files.pythonhosted.org/packages/12/35/d3b12ce828e244d293f96bc6b9c69d632da81dbc2e3da1163993e1634f1e/pyobjc-2.4.tar.gz#sha256=615a0430a647409cade2963e0018ad3ca769d46453cb4e5b7d0b638344cd8493 (from https://pypi.org/simple/pyobjc/). Command errored out with exit status 1: python setup.py egg_info Check the logs for full command output.\u001b[0m\n",
            "  Downloading pyobjc-2.3.tar.gz (6.6 kB)\n",
            "  Preparing metadata (setup.py) ... \u001b[?25l\u001b[?25herror\n",
            "\u001b[33mWARNING: Discarding https://files.pythonhosted.org/packages/80/0c/197e53e8157178b90898694719e255f9bc415c0563e706ab17a367344cb4/pyobjc-2.3.tar.gz#sha256=5c556394f03414f7e61e69dfa74e84e5071cb322aaa06f51bc9b530d35004941 (from https://pypi.org/simple/pyobjc/). Command errored out with exit status 1: python setup.py egg_info Check the logs for full command output.\u001b[0m\n",
            "  Downloading pyobjc-2.2.tar.gz (6.2 kB)\n",
            "  Preparing metadata (setup.py) ... \u001b[?25l\u001b[?25herror\n",
            "\u001b[33mWARNING: Discarding https://files.pythonhosted.org/packages/ce/dd/0f24ca4105b654465251150d6fdee3e134b92e33d91cbd0455a80e0b99f3/pyobjc-2.2.tar.gz#sha256=b921d5dea8e21279bd5fb5f28bf87f0dbbae252b5fb7ce8e54d0552b2b3a3168 (from https://pypi.org/simple/pyobjc/). Command errored out with exit status 1: python setup.py egg_info Check the logs for full command output.\u001b[0m\n",
            "\u001b[31mERROR: Cannot install pyobjc==4.1, pyobjc==4.2, pyobjc==4.2.1, pyobjc==4.2.2, pyobjc==5.0, pyobjc==5.1, pyobjc==5.1.1, pyobjc==5.1.2, pyobjc==5.2, pyobjc==5.3, pyobjc==6.0, pyobjc==6.0.1, pyobjc==6.1, pyobjc==6.2, pyobjc==6.2.1, pyobjc==6.2.2, pyobjc==7.0, pyobjc==7.0.1, pyobjc==7.1, pyobjc==7.2 and pyobjc==7.3 because these package versions have conflicting dependencies.\u001b[0m\n",
            "\n",
            "The conflict is caused by:\n",
            "    pyobjc 7.3 depends on pyobjc-core==7.3\n",
            "    pyobjc 7.2 depends on pyobjc-framework-CoreText==7.2\n",
            "    pyobjc 7.1 depends on pyobjc-framework-SystemConfiguration==7.1\n",
            "    pyobjc 7.0.1 depends on pyobjc-framework-SecurityInterface==7.0.1\n",
            "    pyobjc 7.0 depends on pyobjc-framework-Security==7.0\n",
            "    pyobjc 6.2.2 depends on pyobjc-framework-Quartz==6.2.2\n",
            "    pyobjc 6.2.1 depends on pyobjc-framework-Security==6.2.1\n",
            "    pyobjc 6.2 depends on pyobjc-framework-SecurityInterface==6.2\n",
            "    pyobjc 6.1 depends on pyobjc-framework-Quartz==6.1\n",
            "    pyobjc 6.0.1 depends on pyobjc-core==6.0.1\n",
            "    pyobjc 6.0 depends on pyobjc-framework-SecurityInterface==6.0\n",
            "    pyobjc 5.3 depends on pyobjc-framework-CoreText==5.3\n",
            "    pyobjc 5.2 depends on pyobjc-core==5.2\n",
            "    pyobjc 5.1.2 depends on pyobjc-framework-SystemConfiguration==5.1.2\n",
            "    pyobjc 5.1.1 depends on pyobjc-framework-AddressBook==5.1.1\n",
            "    pyobjc 5.1 depends on pyobjc-framework-Security==5.1\n",
            "    pyobjc 5.0 depends on pyobjc-framework-SyncServices==5.0\n",
            "    pyobjc 4.2.2 depends on pyobjc-framework-SecurityInterface==4.2.2\n",
            "    pyobjc 4.2.1 depends on pyobjc-framework-AddressBook==4.2.1\n",
            "    pyobjc 4.2 depends on pyobjc-framework-CoreText==4.2\n",
            "    pyobjc 4.1 depends on pyobjc-framework-Security==4.1\n",
            "\n",
            "To fix this you could try to:\n",
            "1. loosen the range of package versions you've specified\n",
            "2. remove package versions to allow pip attempt to solve the dependency conflict\n",
            "\n",
            "\u001b[31mERROR: ResolutionImpossible: for help visit https://pip.pypa.io/en/latest/user_guide/#fixing-conflicting-dependencies\u001b[0m\n",
            "Requirement already satisfied: matplotlib in /usr/local/lib/python3.7/dist-packages (3.2.2)\n",
            "Requirement already satisfied: cycler>=0.10 in /usr/local/lib/python3.7/dist-packages (from matplotlib) (0.10.0)\n",
            "Requirement already satisfied: numpy>=1.11 in /usr/local/lib/python3.7/dist-packages (from matplotlib) (1.19.5)\n",
            "Requirement already satisfied: python-dateutil>=2.1 in /usr/local/lib/python3.7/dist-packages (from matplotlib) (2.8.2)\n",
            "Requirement already satisfied: kiwisolver>=1.0.1 in /usr/local/lib/python3.7/dist-packages (from matplotlib) (1.3.2)\n",
            "Requirement already satisfied: pyparsing!=2.0.4,!=2.1.2,!=2.1.6,>=2.0.1 in /usr/local/lib/python3.7/dist-packages (from matplotlib) (2.4.7)\n",
            "Requirement already satisfied: six in /usr/local/lib/python3.7/dist-packages (from cycler>=0.10->matplotlib) (1.15.0)\n",
            "\u001b[33mWARNING: Running pip as the 'root' user can result in broken permissions and conflicting behaviour with the system package manager. It is recommended to use a virtual environment instead: https://pip.pypa.io/warnings/venv\u001b[0m\n",
            "Requirement already satisfied: pandas in /usr/local/lib/python3.7/dist-packages (1.1.5)\n",
            "Requirement already satisfied: python-dateutil>=2.7.3 in /usr/local/lib/python3.7/dist-packages (from pandas) (2.8.2)\n",
            "Requirement already satisfied: pytz>=2017.2 in /usr/local/lib/python3.7/dist-packages (from pandas) (2018.9)\n",
            "Requirement already satisfied: numpy>=1.15.4 in /usr/local/lib/python3.7/dist-packages (from pandas) (1.19.5)\n",
            "Requirement already satisfied: six>=1.5 in /usr/local/lib/python3.7/dist-packages (from python-dateutil>=2.7.3->pandas) (1.15.0)\n",
            "\u001b[33mWARNING: Running pip as the 'root' user can result in broken permissions and conflicting behaviour with the system package manager. It is recommended to use a virtual environment instead: https://pip.pypa.io/warnings/venv\u001b[0m\n",
            "Requirement already satisfied: seaborn in /usr/local/lib/python3.7/dist-packages (0.11.2)\n",
            "Requirement already satisfied: matplotlib>=2.2 in /usr/local/lib/python3.7/dist-packages (from seaborn) (3.2.2)\n",
            "Requirement already satisfied: scipy>=1.0 in /usr/local/lib/python3.7/dist-packages (from seaborn) (1.4.1)\n",
            "Requirement already satisfied: pandas>=0.23 in /usr/local/lib/python3.7/dist-packages (from seaborn) (1.1.5)\n",
            "Requirement already satisfied: numpy>=1.15 in /usr/local/lib/python3.7/dist-packages (from seaborn) (1.19.5)\n",
            "Requirement already satisfied: kiwisolver>=1.0.1 in /usr/local/lib/python3.7/dist-packages (from matplotlib>=2.2->seaborn) (1.3.2)\n",
            "Requirement already satisfied: cycler>=0.10 in /usr/local/lib/python3.7/dist-packages (from matplotlib>=2.2->seaborn) (0.10.0)\n",
            "Requirement already satisfied: python-dateutil>=2.1 in /usr/local/lib/python3.7/dist-packages (from matplotlib>=2.2->seaborn) (2.8.2)\n",
            "Requirement already satisfied: pyparsing!=2.0.4,!=2.1.2,!=2.1.6,>=2.0.1 in /usr/local/lib/python3.7/dist-packages (from matplotlib>=2.2->seaborn) (2.4.7)\n",
            "Requirement already satisfied: pytz>=2017.2 in /usr/local/lib/python3.7/dist-packages (from pandas>=0.23->seaborn) (2018.9)\n",
            "Requirement already satisfied: six in /usr/local/lib/python3.7/dist-packages (from cycler>=0.10->matplotlib>=2.2->seaborn) (1.15.0)\n",
            "\u001b[33mWARNING: Running pip as the 'root' user can result in broken permissions and conflicting behaviour with the system package manager. It is recommended to use a virtual environment instead: https://pip.pypa.io/warnings/venv\u001b[0m\n",
            "Requirement already satisfied: PyYAML in /usr/local/lib/python3.7/dist-packages (3.13)\n",
            "\u001b[33mWARNING: Running pip as the 'root' user can result in broken permissions and conflicting behaviour with the system package manager. It is recommended to use a virtual environment instead: https://pip.pypa.io/warnings/venv\u001b[0m\n"
          ]
        }
      ]
    },
    {
      "cell_type": "code",
      "metadata": {
        "colab": {
          "base_uri": "https://localhost:8080/"
        },
        "id": "r5YmP2mN9VXV",
        "outputId": "4e6a15d3-0dca-4f90-a45e-a4776a5cf345"
      },
      "source": [
        "#print system info\n",
        "import sys\n",
        "print('Python: ',sys.version)"
      ],
      "execution_count": 2,
      "outputs": [
        {
          "output_type": "stream",
          "name": "stdout",
          "text": [
            "Python:  3.7.12 (default, Sep 10 2021, 00:21:48) \n",
            "[GCC 7.5.0]\n"
          ]
        }
      ]
    },
    {
      "cell_type": "code",
      "metadata": {
        "id": "UJw-gJNl9dW2"
      },
      "source": [
        "is_google_colab = True\n",
        "is_azure_ml = False"
      ],
      "execution_count": 3,
      "outputs": []
    },
    {
      "cell_type": "code",
      "metadata": {
        "colab": {
          "base_uri": "https://localhost:8080/"
        },
        "id": "TfWh08Vv9g3r",
        "outputId": "62397577-199c-4a86-d0f1-0daef41cfd37"
      },
      "source": [
        "## If you are using the data by mounting the google drive, use the following :\n",
        "if is_google_colab:\n",
        "    from google.colab import drive\n",
        "    drive.mount('/content/gdrive')\n",
        "##Ref:https://towardsdatascience.com/downloading-datasets-into-google-drive-via-google-colab-bcb1b30b0166"
      ],
      "execution_count": 4,
      "outputs": [
        {
          "output_type": "stream",
          "name": "stdout",
          "text": [
            "Mounted at /content/gdrive\n"
          ]
        }
      ]
    },
    {
      "cell_type": "code",
      "metadata": {
        "colab": {
          "base_uri": "https://localhost:8080/"
        },
        "id": "jSIsF-fO9jwu",
        "outputId": "93adeb71-7037-4216-cd95-2509a0817e7f"
      },
      "source": [
        "#get path for pycode folder \n",
        "if is_google_colab:\n",
        "  #!ls '/content/gdrive/MyDrive/Colab Notebooks/'\n",
        "  !ls '/content/gdrive/MyDrive/ColabNotebooks/'"
      ],
      "execution_count": 6,
      "outputs": [
        {
          "output_type": "stream",
          "name": "stdout",
          "text": [
            "01-ImageClassificationDataCollector.ipynb  project  test_cpu.ipynb\n",
            "02-ImageClassificationTrainModel.ipynb\t   pycode   tools\n",
            "03-ImageClassificationTestModel.ipynb\t   rl-cab\n",
            "GestureRecognitionProject.ipynb\t\t   temp\n"
          ]
        }
      ]
    },
    {
      "cell_type": "code",
      "metadata": {
        "id": "rt_nZF_L9jfh"
      },
      "source": [
        "#if .py files are in Google Drive\n",
        "if is_google_colab:\n",
        "\n",
        "  import sys\n",
        "  #sys.path.append('/content/gdrive/MyDrive/Colab Notebooks/')\n",
        "  sys.path.append('/content/gdrive/MyDrive/ColabNotebooks/')"
      ],
      "execution_count": 7,
      "outputs": []
    },
    {
      "cell_type": "code",
      "metadata": {
        "id": "nMriOzMAJlXU"
      },
      "source": [
        "import numpy as np\n",
        "import seaborn as sns\n",
        "import matplotlib.pyplot as plt\n",
        "%matplotlib inline\n",
        "\n",
        "import time\n",
        "from datetime import datetime\n",
        "import random\n",
        "from glob import glob\n",
        "import os"
      ],
      "execution_count": 8,
      "outputs": []
    },
    {
      "cell_type": "code",
      "metadata": {
        "id": "l_SmO_JiJlXU"
      },
      "source": [
        "import cv2\n",
        "from PIL import Image"
      ],
      "execution_count": 9,
      "outputs": []
    },
    {
      "cell_type": "code",
      "metadata": {
        "id": "lHdFZ-36JlXV"
      },
      "source": [
        "import tensorflow as tf\n",
        "from tensorflow import keras\n",
        "from tensorflow.keras.models import Model"
      ],
      "execution_count": 10,
      "outputs": []
    },
    {
      "cell_type": "code",
      "metadata": {
        "id": "UodoNJu5JlXW"
      },
      "source": [
        "%matplotlib inline\n",
        "\n",
        "import warnings\n",
        "warnings.filterwarnings('ignore')"
      ],
      "execution_count": 11,
      "outputs": []
    },
    {
      "cell_type": "code",
      "metadata": {
        "id": "3hLX_jWPJlXY",
        "colab": {
          "base_uri": "https://localhost:8080/"
        },
        "outputId": "5589cb4c-d6b6-4494-852b-c99057290166"
      },
      "source": [
        "#print tensor and keras version\n",
        "print('keras: ', keras.__version__)\n",
        "print('tensorflow: ', tf.__version__)\n",
        "import numpy\n",
        "print('numpy: ', numpy.version.version)"
      ],
      "execution_count": 12,
      "outputs": [
        {
          "output_type": "stream",
          "name": "stdout",
          "text": [
            "keras:  2.6.0\n",
            "tensorflow:  2.6.0\n",
            "numpy:  1.19.5\n"
          ]
        }
      ]
    },
    {
      "cell_type": "markdown",
      "metadata": {
        "id": "pb8teMIhJlXZ"
      },
      "source": [
        "## Functions"
      ]
    },
    {
      "cell_type": "code",
      "metadata": {
        "id": "BP-RC-zjJlXa",
        "colab": {
          "base_uri": "https://localhost:8080/"
        },
        "outputId": "35317f7d-6212-47b2-da1d-8861d73f4bec"
      },
      "source": [
        "import pycode.FileIOUtil\n",
        "import pycode.TTSUtil\n",
        "from pycode.ImageClassificationCfg import ImageClassificationCfg\n",
        "from pycode.LoadAndTestCNNUtil import LoadAndTestCNNUtil"
      ],
      "execution_count": 13,
      "outputs": [
        {
          "output_type": "stream",
          "name": "stderr",
          "text": [
            "playsound is relying on another python subprocess. Please use `pip install pygobject` if you want playsound to run more efficiently.\n"
          ]
        }
      ]
    },
    {
      "cell_type": "code",
      "metadata": {
        "id": "IZSaSlK5anPq"
      },
      "source": [
        "#function to take pic from webcam on browser for Google Collab kinda env\n",
        "if is_google_colab:\n",
        "  from IPython.display import display, Javascript\n",
        "  from google.colab.output import eval_js\n",
        "  from base64 import b64decode\n",
        "\n",
        "  def take_photo_over_webpage(filename='photo.jpg', quality=0.8):\n",
        "    js = Javascript('''\n",
        "      async function takePhoto(quality) {\n",
        "        const div = document.createElement('div');\n",
        "        const capture = document.createElement('button');\n",
        "        capture.textContent = 'Capture';\n",
        "        div.appendChild(capture);\n",
        "\n",
        "        const video = document.createElement('video');\n",
        "        video.style.display = 'block';\n",
        "        const stream = await navigator.mediaDevices.getUserMedia({video: true});\n",
        "\n",
        "        document.body.appendChild(div);\n",
        "        div.appendChild(video);\n",
        "        video.srcObject = stream;\n",
        "        await video.play();\n",
        "\n",
        "        // Resize the output to fit the video element.\n",
        "        google.colab.output.setIframeHeight(document.documentElement.scrollHeight, true);\n",
        "\n",
        "        // Wait for Capture to be clicked.\n",
        "        await new Promise((resolve) => capture.onclick = resolve);\n",
        "\n",
        "        const canvas = document.createElement('canvas');\n",
        "        canvas.width = video.videoWidth;\n",
        "        canvas.height = video.videoHeight;\n",
        "        canvas.getContext('2d').drawImage(video, 0, 0);\n",
        "        stream.getVideoTracks()[0].stop();\n",
        "        div.remove();\n",
        "        return canvas.toDataURL('image/jpeg', quality);\n",
        "      }\n",
        "      ''')\n",
        "    display(js)\n",
        "    data = eval_js('takePhoto({})'.format(quality))\n",
        "    binary = b64decode(data.split(',')[1])\n",
        "    with open(filename, 'wb') as f:\n",
        "      f.write(binary)\n",
        "    return filename"
      ],
      "execution_count": 15,
      "outputs": []
    },
    {
      "cell_type": "markdown",
      "metadata": {
        "id": "D6L0R6KHJlXa"
      },
      "source": [
        "# Read Cfg"
      ]
    },
    {
      "cell_type": "code",
      "metadata": {
        "colab": {
          "base_uri": "https://localhost:8080/"
        },
        "id": "SOoPsRyI-pJn",
        "outputId": "67142c26-b1e4-4ef7-e0f4-8fbc60db0f49"
      },
      "source": [
        "if is_google_colab:\n",
        "  #locate cfg file in google drive\n",
        "  !ls '/content/gdrive/MyDrive/ColabNotebooks/project/flowers-recognition/' #change me"
      ],
      "execution_count": 16,
      "outputs": [
        {
          "output_type": "stream",
          "name": "stdout",
          "text": [
            "cfg.yml  data  flowers_recognition_model.h5  flowers-recognition.zip\n"
          ]
        }
      ]
    },
    {
      "cell_type": "code",
      "metadata": {
        "id": "1n9FRfiVJlXb"
      },
      "source": [
        "cfg_file = './project/flowers-recognition/cfg.yml'\n",
        "#cfg_file = './project/work_pose/cfg.yml'\n",
        "#cfg_file = './project/home_presence/cfg.yml'\n",
        "\n",
        "if is_google_colab:\n",
        "  cfg_file = '/content/gdrive/MyDrive/ColabNotebooks/project/flowers-recognition/cfg.yml' #change me\n",
        "\n",
        "cfg_file = ImageClassificationCfg(cfg_file)\n",
        "cfg_file.load()"
      ],
      "execution_count": 17,
      "outputs": []
    },
    {
      "cell_type": "code",
      "metadata": {
        "id": "S86EQWFtJlXc",
        "colab": {
          "base_uri": "https://localhost:8080/"
        },
        "outputId": "7ad86152-bd1d-44e2-dd65-9dd6fde2f84f"
      },
      "source": [
        "cfg_file.log_info()"
      ],
      "execution_count": 18,
      "outputs": [
        {
          "output_type": "stream",
          "name": "stdout",
          "text": [
            "project_name:  flowers-recognition\n",
            "--------------------\n",
            "project_parent_dir:  /content/gdrive/MyDrive/ColabNotebooks/project/\n",
            "project_data_dir:  /content/gdrive/MyDrive/ColabNotebooks/project/flowers-recognition/data/\n",
            "temp_dir:  /content/gdrive/MyDrive/ColabNotebooks/temp/\n",
            "file_ext:  *.jpg\n",
            "--------------------\n",
            "reduce_image_wh_by:  3\n",
            "crop_image_from_left:  0.0\n",
            "crop_image_from_right:  0.0\n",
            "--------------------\n",
            "project_dir:  /content/gdrive/MyDrive/ColabNotebooks/project/flowers-recognition/\n",
            "project_temp_dir: /content/gdrive/MyDrive/ColabNotebooks/temp/flowers-recognition/\n",
            "loc_unknown: /content/gdrive/MyDrive/ColabNotebooks/temp/flowers-recognition/non-labeled/\n",
            "--------------------\n",
            "labels_from_dir:  True\n",
            "label count:  5\n",
            "labels: ['daisy', 'dandelion', 'rose', 'sunflower', 'tulip']\n"
          ]
        }
      ]
    },
    {
      "cell_type": "code",
      "metadata": {
        "id": "qgzneW6DJlXd"
      },
      "source": [
        "def get_capture_dim(src_video):\n",
        "    cap = None\n",
        "    try:\n",
        "        cap = cv2.VideoCapture(src_video)\n",
        "        if(cap.isOpened()):\n",
        "            ret, frame = cap.read()\n",
        "            return frame.shape\n",
        "        else:\n",
        "            return 0,0\n",
        "    finally:\n",
        "        if cap!=None:\n",
        "            cap.release()\n",
        "        cv2.destroyAllWindows()"
      ],
      "execution_count": 19,
      "outputs": []
    },
    {
      "cell_type": "code",
      "metadata": {
        "id": "vmmGuuQ0JlXe",
        "colab": {
          "base_uri": "https://localhost:8080/"
        },
        "outputId": "14d3cb2a-79af-4b4e-bcb5-ed58d7d8add2"
      },
      "source": [
        "#org shape 1080, 1920\n",
        "capture_dim = get_capture_dim(cfg_file.cfg['src_video'])\n",
        "print('org dim: ',capture_dim)\n",
        "\n",
        "img_h = capture_dim[0]\n",
        "img_w = capture_dim[1]\n",
        "\n",
        "img_h = img_h//cfg_file.cfg['reduce_image_wh_by']\n",
        "img_w = img_w//cfg_file.cfg['reduce_image_wh_by']\n",
        "\n",
        "print('new dim h:',img_h)\n",
        "print('new dim w:',img_w)"
      ],
      "execution_count": 20,
      "outputs": [
        {
          "output_type": "stream",
          "name": "stdout",
          "text": [
            "org dim:  (0, 0)\n",
            "new dim h: 0\n",
            "new dim w: 0\n"
          ]
        }
      ]
    },
    {
      "cell_type": "code",
      "metadata": {
        "id": "KZ2Bh8ibJlXf"
      },
      "source": [
        "def plot_image(images, captions=None, cmap=None):    \n",
        "    if captions!=None:\n",
        "        print(captions)\n",
        "    \n",
        "    if len(images) > 1:\n",
        "        f, axes = plt.subplots(1, len(images), sharey=True, figsize=(4,4))\n",
        "        f.set_figwidth(15)\n",
        "        for ax,image in zip(axes, images):\n",
        "            ax.imshow(image, cmap)\n",
        "    else:\n",
        "        plt.figure(figsize=(4,4))\n",
        "        plt.imshow(images[0])\n",
        "    plt.show()"
      ],
      "execution_count": 21,
      "outputs": []
    },
    {
      "cell_type": "code",
      "metadata": {
        "id": "3f8WnzQxJlXg"
      },
      "source": [
        "def get_file_name():\n",
        "    return 'img_'+datetime.now().strftime(\"%Y%m%d%H%M%S\")\n",
        "#get_file_name()"
      ],
      "execution_count": 22,
      "outputs": []
    },
    {
      "cell_type": "code",
      "metadata": {
        "id": "uyxh8VZ8JlXg"
      },
      "source": [
        "def capture_frames(cfg_file, crop=True, count=1, delay_sec=60, save=True):\n",
        "    cap = None\n",
        "    if img_h==0 or img_w==0:\n",
        "        raise Exception('img_h or img_w can not be 0')\n",
        "    try:\n",
        "        cap = cv2.VideoCapture(cfg_file.cfg['src_video'])\n",
        "        #cap.set(cv2.CAP_PROP_BUFFERSIZE, 1)\n",
        "        \n",
        "        if(cap.isOpened()):\n",
        "            for i in range(0, count):\n",
        "                ret, frame = cap.read()\n",
        "                if not ret:\n",
        "                    print(\"failed to grab frame \")\n",
        "                    #raise Exception(\"failed to grab frame \")\n",
        "                    return None, None\n",
        "\n",
        "                #print('org shape: ',frame.shape)\n",
        "                frame = cv2.resize(frame, (img_w,img_h), \n",
        "                                   interpolation = cv2.INTER_AREA)\n",
        "\n",
        "                if crop:\n",
        "                    if cfg_file.cfg['crop_image_from_left']>0:\n",
        "                        new_wl = int(img_w*cfg_file.cfg['crop_image_from_left'])\n",
        "                    else:\n",
        "                        new_wl = 0\n",
        "                        \n",
        "                    if cfg_file.cfg['crop_image_from_right']>0:\n",
        "                        #crop 70% on width from right\n",
        "                        new_wr = int(img_w*cfg_file.cfg['crop_image_from_right'])\n",
        "                    else:\n",
        "                        new_wr = img_w                    \n",
        "                        \n",
        "                    frame = frame[0:img_h,new_wl:new_wr]\n",
        "\n",
        "                if save:\n",
        "                    img_name = cfg_file.loc_unknown+\"frame_{0}.{1}\".format(get_file_name(), cfg_file.cfg['file_ext'][2:])\n",
        "                    cv2.imwrite(img_name, frame)\n",
        "                else:\n",
        "                    img_name = None\n",
        "\n",
        "                frame = cv2.cvtColor(frame, cv2.COLOR_BGR2RGB)\n",
        "                \n",
        "                if count>1 and save:\n",
        "                    print('file saved: ',img_name)\n",
        "                    \n",
        "                if (i+1)!=count:\n",
        "                    #close and re-open else we will get old frame\n",
        "                    if cap != None:\n",
        "                        cap.release()\n",
        "                    #it take about 2 sec to open cam again\n",
        "                    if delay_sec>0:\n",
        "                        time.sleep(delay_sec-2) \n",
        "                    cap = cv2.VideoCapture(cfg_file.cfg['src_video'])\n",
        "                    if(cap.isOpened()==False):\n",
        "                        print('Could not open camera!')\n",
        "                        break            \n",
        "            return frame, img_name\n",
        "        else:\n",
        "            print('Could not open camera!')\n",
        "            return None, None\n",
        "    finally:\n",
        "        if cap != None:\n",
        "            cap.release()\n",
        "        cv2.destroyAllWindows()"
      ],
      "execution_count": 23,
      "outputs": []
    },
    {
      "cell_type": "markdown",
      "metadata": {
        "id": "-xPIftdAJlXi"
      },
      "source": [
        "# Load Model"
      ]
    },
    {
      "cell_type": "code",
      "metadata": {
        "colab": {
          "base_uri": "https://localhost:8080/",
          "height": 35
        },
        "id": "NszUxOwW_ubC",
        "outputId": "ce75ddde-248d-40fe-9901-b2c278970767"
      },
      "source": [
        "#cfg_file.load() #re-load\n",
        "cfg_file.cfg['model_file']"
      ],
      "execution_count": 27,
      "outputs": [
        {
          "output_type": "execute_result",
          "data": {
            "application/vnd.google.colaboratory.intrinsic+json": {
              "type": "string"
            },
            "text/plain": [
              "'/content/gdrive/MyDrive/ColabNotebooks/project/flowers-recognition/flowers_recognition_model.h5'"
            ]
          },
          "metadata": {},
          "execution_count": 27
        }
      ]
    },
    {
      "cell_type": "code",
      "metadata": {
        "id": "ZccX8Gs2JlXj",
        "colab": {
          "base_uri": "https://localhost:8080/"
        },
        "outputId": "fc1f5f6d-a70f-45d4-85f9-63839a71e93d"
      },
      "source": [
        "cnn = LoadAndTestCNNUtil(cfg_file)\n",
        "cnn.debug = True\n",
        "cnn.load()"
      ],
      "execution_count": 28,
      "outputs": [
        {
          "output_type": "stream",
          "name": "stdout",
          "text": [
            "Loading model file:  /content/gdrive/MyDrive/ColabNotebooks/project/flowers-recognition/flowers_recognition_model.h5\n",
            "Model: \"sequential_6\"\n",
            "_________________________________________________________________\n",
            "Layer (type)                 Output Shape              Param #   \n",
            "=================================================================\n",
            "sequential (Sequential)      (None, 224, 224, 3)       0         \n",
            "_________________________________________________________________\n",
            "normalization_5 (Normalizati (None, 224, 224, 3)       7         \n",
            "_________________________________________________________________\n",
            "resnet50v2 (Functional)      (None, 7, 7, 2048)        23564800  \n",
            "_________________________________________________________________\n",
            "global_average_pooling2d_5 ( (None, 2048)              0         \n",
            "_________________________________________________________________\n",
            "flatten_5 (Flatten)          (None, 2048)              0         \n",
            "_________________________________________________________________\n",
            "batch_normalization_10 (Batc (None, 2048)              8192      \n",
            "_________________________________________________________________\n",
            "dense_10 (Dense)             (None, 8)                 16392     \n",
            "_________________________________________________________________\n",
            "dropout_5 (Dropout)          (None, 8)                 0         \n",
            "_________________________________________________________________\n",
            "batch_normalization_11 (Batc (None, 8)                 32        \n",
            "_________________________________________________________________\n",
            "dense_11 (Dense)             (None, 5)                 45        \n",
            "=================================================================\n",
            "Total params: 23,589,468\n",
            "Trainable params: 20,580,421\n",
            "Non-trainable params: 3,009,047\n",
            "_________________________________________________________________\n",
            "None\n"
          ]
        }
      ]
    },
    {
      "cell_type": "markdown",
      "metadata": {
        "id": "2WHI2BvMJlXj"
      },
      "source": [
        "# Load Test Image"
      ]
    },
    {
      "cell_type": "code",
      "metadata": {
        "id": "dbNLvtUMJlXj",
        "colab": {
          "base_uri": "https://localhost:8080/"
        },
        "outputId": "e580daad-cf8a-4039-d00b-b70dfeb8f84a"
      },
      "source": [
        "print('project_data_dir: ',cfg_file.project_data_dir)"
      ],
      "execution_count": 29,
      "outputs": [
        {
          "output_type": "stream",
          "name": "stdout",
          "text": [
            "project_data_dir:  /content/gdrive/MyDrive/ColabNotebooks/project/flowers-recognition/data/\n"
          ]
        }
      ]
    },
    {
      "cell_type": "code",
      "metadata": {
        "id": "ChPcAPbvJlXk",
        "colab": {
          "base_uri": "https://localhost:8080/"
        },
        "outputId": "fc7a63da-fdb3-4aa4-fea1-335d7eb10ca8"
      },
      "source": [
        "all_images = glob(cfg_file.project_data_dir+'*/'+cfg_file.cfg['file_ext'])\n",
        "print('all img count: ',len(all_images))"
      ],
      "execution_count": 30,
      "outputs": [
        {
          "output_type": "stream",
          "name": "stdout",
          "text": [
            "all img count:  4317\n"
          ]
        }
      ]
    },
    {
      "cell_type": "code",
      "metadata": {
        "id": "dZnTCfuzJlXk",
        "colab": {
          "base_uri": "https://localhost:8080/",
          "height": 803
        },
        "outputId": "0bd5909b-2086-49f3-c13e-43a15a4638d6"
      },
      "source": [
        "frame = None\n",
        "file = None\n",
        "\n",
        "file = random.choice(all_images)\n",
        "#frame, file = capture_frames(cfg_file=cfg_file,crop=True, count=1, delay_sec=0, save=True)\n",
        "#file = '/content/gdrive/MyDrive/ColabNotebooks/project/flowers-recognition/data/sunflower/6133988570_9dc778e622_m.jpg'\n",
        "if is_google_colab==True and False:\n",
        "  try:\n",
        "    file = cfg_file.loc_unknown+\"frame_{0}.{1}\".format(get_file_name(), cfg_file.cfg['file_ext'][2:])\n",
        "    take_photo_over_webpage(file)\n",
        "\n",
        "    frame = cv2.imread(file)\n",
        "    w = cfg_file.cfg['input_img_width']\n",
        "    h = cfg_file.cfg['input_img_height']\n",
        "    frame = cv2.resize(frame, (w,h), interpolation = cv2.INTER_AREA)\n",
        "    cv2.imwrite(file, frame)\n",
        "    frame = None\n",
        "  except Exception as err:\n",
        "    # Errors will be thrown if the user does not have a webcam or if they do not\n",
        "    # grant the page permission to access it.\n",
        "    print(str(err))\n",
        "\n",
        "print('file: ',file)\n",
        "if frame is None:\n",
        "    frame = Image.open(file)\n",
        "\n",
        "plot_image([frame])\n",
        "\n",
        "(img_class, model_acc) = cnn.predict(file)"
      ],
      "execution_count": 51,
      "outputs": [
        {
          "output_type": "stream",
          "name": "stdout",
          "text": [
            "file:  /content/gdrive/MyDrive/ColabNotebooks/project/flowers-recognition/data/sunflower/6133988570_9dc778e622_m.jpg\n"
          ]
        },
        {
          "output_type": "display_data",
          "data": {
            "image/png": "[encoded data removed]",
            "text/plain": [
              "<Figure size 288x288 with 1 Axes>"
            ]
          },
          "metadata": {
            "needs_background": "light"
          }
        },
        {
          "output_type": "stream",
          "name": "stdout",
          "text": [
            "type: <class 'numpy.ndarray'>\n",
            "shape: (224, 224, 3)\n",
            "-\n",
            "Predictions: [[0.17807022 0.1907062  0.15258648 0.3428677  0.13576934]]\n",
            "Score: tf.Tensor([0.1951109  0.19759196 0.19020157 0.23006585 0.18702966], shape=(5,), dtype=float32)\n",
            "-\n",
            "Class: sunflower [ 23.007 %]\n",
            "-------------------------\n",
            "   ClassName   Score\n",
            "3  sunflower  23.007\n",
            "1  dandelion  19.759\n",
            "0      daisy  19.511\n",
            "2       rose  19.020\n",
            "4      tulip  18.703\n",
            "-\n"
          ]
        },
        {
          "output_type": "display_data",
          "data": {
            "image/png": "[encoded data removed]",
            "text/plain": [
              "<Figure size 432x288 with 1 Axes>"
            ]
          },
          "metadata": {
            "needs_background": "light"
          }
        }
      ]
    },
    {
      "cell_type": "code",
      "metadata": {
        "id": "3rhqtsEzJlXl"
      },
      "source": [
        "#delete temp file\n",
        "if file.startswith(cfg_file.loc_unknown):    \n",
        "    if os.path.isfile(file):\n",
        "        print('Deleted temp file')\n",
        "        os.remove(file)\n",
        "    else:\n",
        "        #no file to delete\n",
        "        pass"
      ],
      "execution_count": 52,
      "outputs": []
    },
    {
      "cell_type": "code",
      "metadata": {
        "id": "5QKUUVp-JlXl"
      },
      "source": [
        ""
      ],
      "execution_count": null,
      "outputs": []
    },
    {
      "cell_type": "code",
      "metadata": {
        "id": "E1kn8IsAJlXl"
      },
      "source": [
        ""
      ],
      "execution_count": null,
      "outputs": []
    }
  ]
}