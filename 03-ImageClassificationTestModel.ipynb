{
 "cells": [
  {
   "cell_type": "markdown",
   "metadata": {
    "id": "anpkn_CPJlXK"
   },
   "source": [
    "# Image Classification Test Model"
   ]
  },
  {
   "cell_type": "markdown",
   "metadata": {
    "id": "Q6IK0_RwJlXR"
   },
   "source": [
    "#### Project Url: https://github.com/akshath/image_classification_kit_keras"
   ]
  },
  {
   "cell_type": "code",
   "execution_count": 1,
   "metadata": {
    "id": "UJw-gJNl9dW2"
   },
   "outputs": [],
   "source": [
    "is_google_colab = False\n",
    "is_azure_ml = False"
   ]
  },
  {
   "cell_type": "code",
   "execution_count": 2,
   "metadata": {
    "colab": {
     "base_uri": "https://localhost:8080/"
    },
    "id": "TfWh08Vv9g3r",
    "outputId": "a6080e7f-ab85-4eda-c81a-554bca83620d"
   },
   "outputs": [],
   "source": [
    "3 ## If you are using the data by mounting the google drive, use the following :\n",
    "if is_google_colab:\n",
    "    from google.colab import drive\n",
    "    drive.mount('/content/gdrive')\n",
    "##Ref:https://towardsdatascience.com/downloading-datasets-into-google-drive-via-google-colab-bcb1b30b0166"
   ]
  },
  {
   "cell_type": "code",
   "execution_count": 3,
   "metadata": {
    "colab": {
     "base_uri": "https://localhost:8080/"
    },
    "id": "jSIsF-fO9jwu",
    "outputId": "1b4f8bcf-c3de-45d0-9760-4e9fcca13d2e"
   },
   "outputs": [],
   "source": [
    "#get path for pycode folder \n",
    "if is_google_colab:\n",
    "    #google_colab_notebook_loc = '/content/gdrive/MyDrive/Colab Notebooks/'\n",
    "    google_colab_notebook_loc = '/content/gdrive/MyDrive/ColabNotebooks/'\n",
    "    !ls $google_colab_notebook_loc"
   ]
  },
  {
   "cell_type": "code",
   "execution_count": 4,
   "metadata": {
    "colab": {
     "base_uri": "https://localhost:8080/"
    },
    "id": "NX1sWz2BJlXS",
    "outputId": "bec74500-dfcb-4232-b0ce-916b9c4f8700"
   },
   "outputs": [],
   "source": [
    "if is_google_colab:\n",
    "    #!conda create -n img_class_ml_env python=3.7\n",
    "    #!conda activate img_class_ml_env\n",
    "    !pip install -r $google_colab_notebook_loc'requirements.txt'\n",
    "    #!pip install ipykernel\n",
    "    #!python -m ipykernel install --user --name img_class_ml_env --display-name \"img_class_ml_env\""
   ]
  },
  {
   "cell_type": "code",
   "execution_count": 5,
   "metadata": {
    "colab": {
     "base_uri": "https://localhost:8080/"
    },
    "id": "f8sc5PtfwYAz",
    "outputId": "b829f8f3-984b-4722-9204-99fb6b49fcff"
   },
   "outputs": [
    {
     "name": "stdout",
     "output_type": "stream",
     "text": [
      "Python:  3.7.11 (default, Jul 27 2021, 09:42:29) [MSC v.1916 64 bit (AMD64)]\n",
      "numpy:  1.19.5\n",
      "tensorflow:  2.6.2\n",
      "keras:  2.6.0\n"
     ]
    }
   ],
   "source": [
    "#print system info\n",
    "import sys\n",
    "import numpy\n",
    "from tensorflow import keras\n",
    "import tensorflow as tf\n",
    "\n",
    "print('Python: ',sys.version)\n",
    "print('numpy: ', numpy.version.version)\n",
    "print('tensorflow: ', tf.__version__)\n",
    "print('keras: ', keras.__version__)"
   ]
  },
  {
   "cell_type": "code",
   "execution_count": 6,
   "metadata": {
    "id": "rt_nZF_L9jfh"
   },
   "outputs": [],
   "source": [
    "#if .py files are in Google Drive\n",
    "if is_google_colab:\n",
    "    import sys\n",
    "    sys.path.append(google_colab_notebook_loc)"
   ]
  },
  {
   "cell_type": "code",
   "execution_count": 7,
   "metadata": {
    "id": "nMriOzMAJlXU"
   },
   "outputs": [],
   "source": [
    "import numpy as np\n",
    "import seaborn as sns\n",
    "import matplotlib.pyplot as plt\n",
    "%matplotlib inline\n",
    "\n",
    "import time\n",
    "from datetime import datetime\n",
    "import random\n",
    "from glob import glob\n",
    "import os"
   ]
  },
  {
   "cell_type": "code",
   "execution_count": 8,
   "metadata": {
    "id": "l_SmO_JiJlXU"
   },
   "outputs": [],
   "source": [
    "import cv2\n",
    "from PIL import Image"
   ]
  },
  {
   "cell_type": "code",
   "execution_count": 9,
   "metadata": {
    "id": "lHdFZ-36JlXV"
   },
   "outputs": [],
   "source": [
    "import tensorflow as tf\n",
    "from tensorflow import keras\n",
    "from tensorflow.keras.models import Model"
   ]
  },
  {
   "cell_type": "code",
   "execution_count": 10,
   "metadata": {
    "id": "UodoNJu5JlXW"
   },
   "outputs": [],
   "source": [
    "%matplotlib inline\n",
    "\n",
    "import warnings\n",
    "warnings.filterwarnings('ignore')"
   ]
  },
  {
   "cell_type": "markdown",
   "metadata": {
    "id": "pb8teMIhJlXZ"
   },
   "source": [
    "## Functions"
   ]
  },
  {
   "cell_type": "code",
   "execution_count": 11,
   "metadata": {
    "colab": {
     "base_uri": "https://localhost:8080/"
    },
    "id": "BP-RC-zjJlXa",
    "outputId": "621bc0e7-a42e-450f-944f-7169ede6181f"
   },
   "outputs": [],
   "source": [
    "import pycode.FileIOUtil\n",
    "import pycode.TTSUtil\n",
    "from pycode.ImageClassificationCfg import ImageClassificationCfg\n",
    "from pycode.LoadAndTestCNNUtil import LoadAndTestCNNUtil"
   ]
  },
  {
   "cell_type": "code",
   "execution_count": 12,
   "metadata": {
    "id": "IZSaSlK5anPq"
   },
   "outputs": [],
   "source": [
    "#function to take pic from webcam on browser for Google Collab kinda env\n",
    "if is_google_colab:\n",
    "    from IPython.display import display, Javascript\n",
    "    from google.colab.output import eval_js\n",
    "    from base64 import b64decode\n",
    "\n",
    "    def take_photo_over_webpage(filename='photo.jpg', quality=0.8):\n",
    "        js = Javascript('''\n",
    "            async function takePhoto(quality) {\n",
    "                const div = document.createElement('div');\n",
    "                const capture = document.createElement('button');\n",
    "                capture.textContent = 'Capture';\n",
    "                div.appendChild(capture);\n",
    "\n",
    "                const video = document.createElement('video');\n",
    "                video.style.display = 'block';\n",
    "                const stream = await navigator.mediaDevices.getUserMedia({video: true});\n",
    "\n",
    "                document.body.appendChild(div);\n",
    "                div.appendChild(video);\n",
    "                video.srcObject = stream;\n",
    "                await video.play();\n",
    "\n",
    "                // Resize the output to fit the video element.\n",
    "                google.colab.output.setIframeHeight(document.documentElement.scrollHeight, true);\n",
    "\n",
    "                // Wait for Capture to be clicked.\n",
    "                await new Promise((resolve) => capture.onclick = resolve);\n",
    "\n",
    "                const canvas = document.createElement('canvas');\n",
    "                canvas.width = video.videoWidth;\n",
    "                canvas.height = video.videoHeight;\n",
    "                canvas.getContext('2d').drawImage(video, 0, 0);\n",
    "                stream.getVideoTracks()[0].stop();\n",
    "                div.remove();\n",
    "                return canvas.toDataURL('image/jpeg', quality);\n",
    "            }\n",
    "          ''')\n",
    "        display(js)\n",
    "        data = eval_js('takePhoto({})'.format(quality))\n",
    "        binary = b64decode(data.split(',')[1])\n",
    "        with open(filename, 'wb') as f:\n",
    "            f.write(binary)\n",
    "        return filename"
   ]
  },
  {
   "cell_type": "markdown",
   "metadata": {
    "id": "D6L0R6KHJlXa"
   },
   "source": [
    "# Read Cfg"
   ]
  },
  {
   "cell_type": "code",
   "execution_count": 13,
   "metadata": {
    "colab": {
     "base_uri": "https://localhost:8080/"
    },
    "id": "SOoPsRyI-pJn",
    "outputId": "ab512521-b189-47e9-846b-54375114ce87"
   },
   "outputs": [],
   "source": [
    "if is_google_colab:\n",
    "  #locate cfg file in google drive\n",
    "  !ls $google_colab_notebook_loc'project/flowers-recognition/' #change me"
   ]
  },
  {
   "cell_type": "code",
   "execution_count": 14,
   "metadata": {
    "id": "1n9FRfiVJlXb"
   },
   "outputs": [],
   "source": [
    "cfg_file = './project/flowers-recognition/cfg-localsys.yml'\n",
    "#cfg_file = './project/work_pose/cfg.yml'\n",
    "#cfg_file = './project/home_presence/cfg.yml'\n",
    "\n",
    "if is_google_colab:\n",
    "    cfg_file = google_colab_notebook_loc+'project/flowers-recognition/cfg.yml' #change me\n",
    "\n",
    "cfg_file = ImageClassificationCfg(cfg_file)\n",
    "cfg_file.load()"
   ]
  },
  {
   "cell_type": "code",
   "execution_count": 15,
   "metadata": {
    "colab": {
     "base_uri": "https://localhost:8080/"
    },
    "id": "S86EQWFtJlXc",
    "outputId": "f501c5b4-4d8d-41a0-a70f-be607b8747a0"
   },
   "outputs": [
    {
     "name": "stdout",
     "output_type": "stream",
     "text": [
      "project_name:  flowers-recognition\n",
      "--------------------\n",
      "project_parent_dir:  ./project/\n",
      "project_data_dir:  ./project/flowers-recognition/data/\n",
      "temp_dir:  ./temp/\n",
      "file_ext:  *.jpg\n",
      "--------------------\n",
      "reduce_image_wh_by:  3\n",
      "crop_image_from_left:  0.0\n",
      "crop_image_from_right:  0.0\n",
      "--------------------\n",
      "project_dir:  ./project/flowers-recognition/\n",
      "project_temp_dir: ./temp/flowers-recognition/\n",
      "loc_unknown: ./temp/flowers-recognition/non-labeled/\n",
      "--------------------\n",
      "labels_from_dir:  True\n",
      "label count:  5\n",
      "labels: ['daisy', 'dandelion', 'rose', 'sunflower', 'tulip']\n"
     ]
    }
   ],
   "source": [
    "cfg_file.log_info()"
   ]
  },
  {
   "cell_type": "code",
   "execution_count": 16,
   "metadata": {
    "id": "qgzneW6DJlXd"
   },
   "outputs": [],
   "source": [
    "def get_capture_dim(src_video):\n",
    "    cap = None\n",
    "    try:\n",
    "        cap = cv2.VideoCapture(src_video)\n",
    "        if(cap.isOpened()):\n",
    "            ret, frame = cap.read()\n",
    "            return frame.shape\n",
    "        else:\n",
    "            return 0,0\n",
    "    finally:\n",
    "        if cap!=None:\n",
    "            cap.release()\n",
    "        cv2.destroyAllWindows()"
   ]
  },
  {
   "cell_type": "code",
   "execution_count": 17,
   "metadata": {
    "colab": {
     "base_uri": "https://localhost:8080/"
    },
    "id": "vmmGuuQ0JlXe",
    "outputId": "8b0ee0ec-ece8-4bdb-955c-293e66150cb6"
   },
   "outputs": [
    {
     "name": "stdout",
     "output_type": "stream",
     "text": [
      "org dim:  (480, 640, 3)\n",
      "new dim h: 160\n",
      "new dim w: 213\n"
     ]
    }
   ],
   "source": [
    "#org shape 1080, 1920\n",
    "capture_dim = get_capture_dim(cfg_file.cfg['src_video'])\n",
    "print('org dim: ',capture_dim)\n",
    "\n",
    "img_h = capture_dim[0]\n",
    "img_w = capture_dim[1]\n",
    "\n",
    "img_h = img_h//cfg_file.cfg['reduce_image_wh_by']\n",
    "img_w = img_w//cfg_file.cfg['reduce_image_wh_by']\n",
    "\n",
    "print('new dim h:',img_h)\n",
    "print('new dim w:',img_w)"
   ]
  },
  {
   "cell_type": "code",
   "execution_count": 18,
   "metadata": {
    "id": "KZ2Bh8ibJlXf"
   },
   "outputs": [],
   "source": [
    "def plot_image(images, captions=None, cmap=None):    \n",
    "    if captions!=None:\n",
    "        print(captions)\n",
    "    \n",
    "    if len(images) > 1:\n",
    "        f, axes = plt.subplots(1, len(images), sharey=True, figsize=(4,4))\n",
    "        f.set_figwidth(15)\n",
    "        for ax,image in zip(axes, images):\n",
    "            ax.imshow(image, cmap)\n",
    "    else:\n",
    "        plt.figure(figsize=(4,4))\n",
    "        plt.imshow(images[0])\n",
    "    plt.show()"
   ]
  },
  {
   "cell_type": "code",
   "execution_count": 19,
   "metadata": {
    "id": "3f8WnzQxJlXg"
   },
   "outputs": [],
   "source": [
    "def get_file_name():\n",
    "    return 'img_'+datetime.now().strftime(\"%Y%m%d%H%M%S\")\n",
    "#get_file_name()"
   ]
  },
  {
   "cell_type": "code",
   "execution_count": 20,
   "metadata": {
    "id": "uyxh8VZ8JlXg"
   },
   "outputs": [],
   "source": [
    "def capture_frames(cfg_file, crop=True, count=1, delay_sec=60, save=True):\n",
    "    cap = None\n",
    "    if img_h==0 or img_w==0:\n",
    "        raise Exception('img_h or img_w can not be 0')\n",
    "    try:\n",
    "        cap = cv2.VideoCapture(cfg_file.cfg['src_video'])\n",
    "        #cap.set(cv2.CAP_PROP_BUFFERSIZE, 1)\n",
    "        \n",
    "        if(cap.isOpened()):\n",
    "            for i in range(0, count):\n",
    "                ret, frame = cap.read()\n",
    "                if not ret:\n",
    "                    print(\"failed to grab frame \")\n",
    "                    #raise Exception(\"failed to grab frame \")\n",
    "                    return None, None\n",
    "\n",
    "                #print('org shape: ',frame.shape)\n",
    "                frame = cv2.resize(frame, (img_w,img_h), \n",
    "                                   interpolation = cv2.INTER_AREA)\n",
    "\n",
    "                if crop:\n",
    "                    if cfg_file.cfg['crop_image_from_left']>0:\n",
    "                        new_wl = int(img_w*cfg_file.cfg['crop_image_from_left'])\n",
    "                    else:\n",
    "                        new_wl = 0\n",
    "                        \n",
    "                    if cfg_file.cfg['crop_image_from_right']>0:\n",
    "                        #crop 70% on width from right\n",
    "                        new_wr = int(img_w*cfg_file.cfg['crop_image_from_right'])\n",
    "                    else:\n",
    "                        new_wr = img_w                    \n",
    "                        \n",
    "                    frame = frame[0:img_h,new_wl:new_wr]\n",
    "\n",
    "                if save:\n",
    "                    img_name = cfg_file.loc_unknown+\"frame_{0}.{1}\".format(get_file_name(), cfg_file.cfg['file_ext'][2:])\n",
    "                    cv2.imwrite(img_name, frame)\n",
    "                else:\n",
    "                    img_name = None\n",
    "\n",
    "                frame = cv2.cvtColor(frame, cv2.COLOR_BGR2RGB)\n",
    "                \n",
    "                if count>1 and save:\n",
    "                    print('file saved: ',img_name)\n",
    "                    \n",
    "                if (i+1)!=count:\n",
    "                    #close and re-open else we will get old frame\n",
    "                    if cap != None:\n",
    "                        cap.release()\n",
    "                    #it take about 2 sec to open cam again\n",
    "                    if delay_sec>0:\n",
    "                        time.sleep(delay_sec-2) \n",
    "                    cap = cv2.VideoCapture(cfg_file.cfg['src_video'])\n",
    "                    if(cap.isOpened()==False):\n",
    "                        print('Could not open camera!')\n",
    "                        break            \n",
    "            return frame, img_name\n",
    "        else:\n",
    "            print('Could not open camera!')\n",
    "            return None, None\n",
    "    finally:\n",
    "        if cap != None:\n",
    "            cap.release()\n",
    "        cv2.destroyAllWindows()"
   ]
  },
  {
   "cell_type": "markdown",
   "metadata": {
    "id": "-xPIftdAJlXi"
   },
   "source": [
    "# Load Model"
   ]
  },
  {
   "cell_type": "code",
   "execution_count": 21,
   "metadata": {
    "colab": {
     "base_uri": "https://localhost:8080/",
     "height": 35
    },
    "id": "NszUxOwW_ubC",
    "outputId": "d155cee9-c835-46b6-f7d8-551c6b80666e"
   },
   "outputs": [
    {
     "data": {
      "text/plain": [
       "'./project/flowers-recognition/flowers_recognition_model.h5'"
      ]
     },
     "execution_count": 21,
     "metadata": {},
     "output_type": "execute_result"
    }
   ],
   "source": [
    "#cfg_file.load() #re-load\n",
    "cfg_file.cfg['model_file']"
   ]
  },
  {
   "cell_type": "code",
   "execution_count": 22,
   "metadata": {
    "colab": {
     "base_uri": "https://localhost:8080/"
    },
    "id": "ZccX8Gs2JlXj",
    "outputId": "2c69a375-8576-451c-8af5-1ff9cb9d19f5"
   },
   "outputs": [
    {
     "name": "stdout",
     "output_type": "stream",
     "text": [
      "Loading model file:  ./project/flowers-recognition/flowers_recognition_model.h5\n",
      "Model: \"sequential_1\"\n",
      "_________________________________________________________________\n",
      "Layer (type)                 Output Shape              Param #   \n",
      "=================================================================\n",
      "sequential (Sequential)      (None, 224, 224, 3)       0         \n",
      "_________________________________________________________________\n",
      "normalization (Normalization (None, 224, 224, 3)       7         \n",
      "_________________________________________________________________\n",
      "vgg19 (Functional)           (None, 7, 7, 512)         20024384  \n",
      "_________________________________________________________________\n",
      "global_average_pooling2d (Gl (None, 512)               0         \n",
      "_________________________________________________________________\n",
      "flatten (Flatten)            (None, 512)               0         \n",
      "_________________________________________________________________\n",
      "batch_normalization (BatchNo (None, 512)               2048      \n",
      "_________________________________________________________________\n",
      "dense (Dense)                (None, 8)                 4104      \n",
      "_________________________________________________________________\n",
      "dropout (Dropout)            (None, 8)                 0         \n",
      "_________________________________________________________________\n",
      "batch_normalization_1 (Batch (None, 8)                 32        \n",
      "_________________________________________________________________\n",
      "dense_1 (Dense)              (None, 5)                 45        \n",
      "=================================================================\n",
      "Total params: 20,030,620\n",
      "Trainable params: 17,704,005\n",
      "Non-trainable params: 2,326,615\n",
      "_________________________________________________________________\n",
      "None\n"
     ]
    }
   ],
   "source": [
    "cnn = LoadAndTestCNNUtil(cfg_file)\n",
    "cnn.debug = True\n",
    "cnn.load()"
   ]
  },
  {
   "cell_type": "markdown",
   "metadata": {
    "id": "2WHI2BvMJlXj"
   },
   "source": [
    "# Load and Test Image"
   ]
  },
  {
   "cell_type": "code",
   "execution_count": 23,
   "metadata": {
    "colab": {
     "base_uri": "https://localhost:8080/"
    },
    "id": "dbNLvtUMJlXj",
    "outputId": "3fbe525f-facc-462d-9056-abfab6656266"
   },
   "outputs": [
    {
     "name": "stdout",
     "output_type": "stream",
     "text": [
      "project_data_dir:  ./project/flowers-recognition/data/\n"
     ]
    }
   ],
   "source": [
    "print('project_data_dir: ',cfg_file.project_data_dir)"
   ]
  },
  {
   "cell_type": "code",
   "execution_count": 24,
   "metadata": {
    "colab": {
     "base_uri": "https://localhost:8080/"
    },
    "id": "ChPcAPbvJlXk",
    "outputId": "f746ec0d-009a-4a2e-be6d-e4a91e578a2d"
   },
   "outputs": [
    {
     "name": "stdout",
     "output_type": "stream",
     "text": [
      "all img count:  5\n"
     ]
    }
   ],
   "source": [
    "all_images = glob(cfg_file.project_data_dir+'*/'+cfg_file.cfg['file_ext'])\n",
    "print('all img count: ',len(all_images))"
   ]
  },
  {
   "cell_type": "code",
   "execution_count": 25,
   "metadata": {
    "colab": {
     "base_uri": "https://localhost:8080/",
     "height": 753
    },
    "id": "dZnTCfuzJlXk",
    "outputId": "647dadd4-13cf-43e0-e187-aadde2b48dab"
   },
   "outputs": [
    {
     "name": "stdout",
     "output_type": "stream",
     "text": [
      "file:  ./project/flowers-recognition/data\\sunflower\\pexels-iconcom-1214259.jpg\n"
     ]
    },
    {
     "data": {
      "image/png": "[encoded data removed]",
      "text/plain": [
       "<Figure size 288x288 with 1 Axes>"
      ]
     },
     "metadata": {
      "needs_background": "light"
     },
     "output_type": "display_data"
    },
    {
     "name": "stdout",
     "output_type": "stream",
     "text": [
      "type: <class 'numpy.ndarray'>\n",
      "shape: (224, 224, 3)\n",
      "-\n",
      "Predictions: [[0.01934568 0.14618921 0.07594369 0.7269396  0.03158177]]\n",
      "Score: tf.Tensor([0.1603879  0.18207866 0.16972734 0.32544363 0.16236249], shape=(5,), dtype=float32)\n",
      "-\n",
      "Class: sunflower [ 32.544 %]\n",
      "-------------------------\n",
      "   ClassName   Score\n",
      "3  sunflower  32.544\n",
      "1  dandelion  18.208\n",
      "2       rose  16.973\n",
      "4      tulip  16.236\n",
      "0      daisy  16.039\n",
      "-\n"
     ]
    },
    {
     "data": {
      "image/png": "[encoded data removed]",
      "text/plain": [
       "<Figure size 432x288 with 1 Axes>"
      ]
     },
     "metadata": {
      "needs_background": "light"
     },
     "output_type": "display_data"
    }
   ],
   "source": [
    "frame = None\n",
    "file = None\n",
    "\n",
    "file = random.choice(all_images)\n",
    "#frame, file = capture_frames(cfg_file=cfg_file,crop=True, count=1, delay_sec=0, save=True)\n",
    "#file = google_colab_notebook_loc+'project/flowers-recognition/data/sunflower/6133988570_9dc778e622_m.jpg'\n",
    "if is_google_colab==True and False:\n",
    "    try:\n",
    "        file = cfg_file.loc_unknown+\"frame_{0}.{1}\".format(get_file_name(), cfg_file.cfg['file_ext'][2:])\n",
    "        take_photo_over_webpage(file)\n",
    "\n",
    "        frame = cv2.imread(file)\n",
    "        w = cfg_file.cfg['input_img_width']\n",
    "        h = cfg_file.cfg['input_img_height']\n",
    "        frame = cv2.resize(frame, (w,h), interpolation = cv2.INTER_AREA)\n",
    "        cv2.imwrite(file, frame)\n",
    "        frame = None\n",
    "    except Exception as err:\n",
    "        # Errors will be thrown if the user does not have a webcam or if they do not\n",
    "        # grant the page permission to access it.\n",
    "        print(str(err))\n",
    "\n",
    "print('file: ',file)\n",
    "if frame is None:\n",
    "    frame = Image.open(file)\n",
    "\n",
    "plot_image([frame])\n",
    "\n",
    "(img_class, model_acc) = cnn.predict(file)"
   ]
  },
  {
   "cell_type": "code",
   "execution_count": 26,
   "metadata": {
    "id": "3rhqtsEzJlXl"
   },
   "outputs": [],
   "source": [
    "#delete temp file\n",
    "if file.startswith(cfg_file.loc_unknown):    \n",
    "    if os.path.isfile(file):\n",
    "        print('Deleted temp file')\n",
    "        os.remove(file)\n",
    "    else:\n",
    "        #no file to delete\n",
    "        pass"
   ]
  },
  {
   "cell_type": "code",
   "execution_count": null,
   "metadata": {
    "id": "5QKUUVp-JlXl"
   },
   "outputs": [],
   "source": []
  },
  {
   "cell_type": "code",
   "execution_count": null,
   "metadata": {
    "id": "E1kn8IsAJlXl"
   },
   "outputs": [],
   "source": []
  }
 ],
 "metadata": {
  "colab": {
   "collapsed_sections": [],
   "name": "03-ImageClassificationTestModel.ipynb",
   "provenance": []
  },
  "kernelspec": {
   "display_name": "Python 3",
   "language": "python",
   "name": "python3"
  },
  "language_info": {
   "codemirror_mode": {
    "name": "ipython",
    "version": 3
   },
   "file_extension": ".py",
   "mimetype": "text/x-python",
   "name": "python",
   "nbconvert_exporter": "python",
   "pygments_lexer": "ipython3",
   "version": "3.8.5"
  }
 },
 "nbformat": 4,
 "nbformat_minor": 4
}
