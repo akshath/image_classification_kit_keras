{
 "cells": [
  {
   "cell_type": "markdown",
   "metadata": {},
   "source": [
    "# Image Classification Test Model"
   ]
  },
  {
   "cell_type": "markdown",
   "metadata": {},
   "source": [
    "#### Project Url: https://github.com/akshath/image_classification_kit_keras"
   ]
  },
  {
   "cell_type": "code",
   "execution_count": null,
   "metadata": {},
   "outputs": [],
   "source": [
    "#---- Install stuff -------\n",
    "#!pip install --upgrade pip\n",
    "\n",
    "#!pip install opencv-python\n",
    "#!pip install tensorflow\n",
    "#!pip install numpy==1.19.5\n",
    "\n",
    "#!pip install Pillow\n",
    "#!pip install playsound\n",
    "#!pip install gTTS\n",
    "#!pip install pyobjc\n",
    "\n",
    "#!pip install matplotlib\n",
    "#!pip install pandas\n",
    "#!pip install seaborn\n",
    "\n",
    "#!pip install PyYAML"
   ]
  },
  {
   "cell_type": "code",
   "execution_count": 2,
   "metadata": {},
   "outputs": [],
   "source": [
    "import numpy as np\n",
    "import seaborn as sns\n",
    "import matplotlib.pyplot as plt\n",
    "%matplotlib inline\n",
    "\n",
    "import time\n",
    "from datetime import datetime\n",
    "import random\n",
    "from glob import glob\n",
    "import os"
   ]
  },
  {
   "cell_type": "code",
   "execution_count": 3,
   "metadata": {},
   "outputs": [],
   "source": [
    "import cv2\n",
    "from PIL import Image"
   ]
  },
  {
   "cell_type": "code",
   "execution_count": 4,
   "metadata": {},
   "outputs": [],
   "source": [
    "import tensorflow as tf\n",
    "from tensorflow import keras\n",
    "from tensorflow.keras.models import Model"
   ]
  },
  {
   "cell_type": "code",
   "execution_count": 5,
   "metadata": {},
   "outputs": [],
   "source": [
    "%matplotlib inline\n",
    "\n",
    "import warnings\n",
    "warnings.filterwarnings('ignore')"
   ]
  },
  {
   "cell_type": "code",
   "execution_count": 6,
   "metadata": {},
   "outputs": [
    {
     "name": "stdout",
     "output_type": "stream",
     "text": [
      "Python:  3.8.11 (default, Aug  6 2021, 09:57:55) [MSC v.1916 64 bit (AMD64)]\n"
     ]
    }
   ],
   "source": [
    "#print system info\n",
    "import sys\n",
    "print('Python: ',sys.version)"
   ]
  },
  {
   "cell_type": "code",
   "execution_count": 7,
   "metadata": {},
   "outputs": [
    {
     "name": "stdout",
     "output_type": "stream",
     "text": [
      "keras:  2.6.0\n",
      "tensorflow:  2.6.0\n",
      "numpy:  1.19.5\n"
     ]
    }
   ],
   "source": [
    "#print tensor and keras version\n",
    "print('keras: ', keras.__version__)\n",
    "print('tensorflow: ', tf.__version__)\n",
    "import numpy\n",
    "print('numpy: ', numpy.version.version)"
   ]
  },
  {
   "cell_type": "markdown",
   "metadata": {},
   "source": [
    "## Functions"
   ]
  },
  {
   "cell_type": "code",
   "execution_count": 8,
   "metadata": {},
   "outputs": [],
   "source": [
    "import pycode.FileIOUtil\n",
    "import pycode.TTSUtil\n",
    "from pycode.ImageClassificationCfg import ImageClassificationCfg\n",
    "from pycode.LoadAndTestCNNUtil import LoadAndTestCNNUtil"
   ]
  },
  {
   "cell_type": "markdown",
   "metadata": {},
   "source": [
    "# Read Cfg"
   ]
  },
  {
   "cell_type": "code",
   "execution_count": 9,
   "metadata": {},
   "outputs": [],
   "source": [
    "cfg_file = './project/flowers-recognition/cfg.yml'\n",
    "#cfg_file = './project/work_pose/cfg.yml'\n",
    "#cfg_file = './project/home_presence/cfg.yml'\n",
    "\n",
    "cfg_file = ImageClassificationCfg(cfg_file)\n",
    "cfg_file.load()"
   ]
  },
  {
   "cell_type": "code",
   "execution_count": 10,
   "metadata": {},
   "outputs": [
    {
     "name": "stdout",
     "output_type": "stream",
     "text": [
      "project_name:  flowers-recognition\n",
      "--------------------\n",
      "project_parent_dir:  ./project/\n",
      "project_data_dir:  ./project/flowers-recognition/data/\n",
      "temp_dir:  ./temp/\n",
      "file_ext:  *.jpg\n",
      "--------------------\n",
      "reduce_image_wh_by:  3\n",
      "crop_image_from_left:  0.0\n",
      "crop_image_from_right:  0.0\n",
      "--------------------\n",
      "project_dir:  ./project/flowers-recognition/\n",
      "project_temp_dir: ./temp/flowers-recognition/\n",
      "loc_unknown: ./temp/flowers-recognition/non-labeled/\n",
      "--------------------\n",
      "labels_from_dir:  False\n",
      "label count:  5\n",
      "labels: ['daisy', 'dandelion', 'rose', 'sunflower', 'tulip']\n"
     ]
    }
   ],
   "source": [
    "cfg_file.log_info()"
   ]
  },
  {
   "cell_type": "code",
   "execution_count": 11,
   "metadata": {},
   "outputs": [],
   "source": [
    "def get_capture_dim(src_video):\n",
    "    cap = None\n",
    "    try:\n",
    "        cap = cv2.VideoCapture(src_video)\n",
    "        if(cap.isOpened()):\n",
    "            ret, frame = cap.read()\n",
    "            return frame.shape\n",
    "        else:\n",
    "            return 0,0\n",
    "    finally:\n",
    "        if cap!=None:\n",
    "            cap.release()\n",
    "        cv2.destroyAllWindows()"
   ]
  },
  {
   "cell_type": "code",
   "execution_count": 12,
   "metadata": {},
   "outputs": [
    {
     "name": "stdout",
     "output_type": "stream",
     "text": [
      "org dim:  (480, 640, 3)\n",
      "new dim h: 160\n",
      "new dim w: 213\n"
     ]
    }
   ],
   "source": [
    "#org shape 1080, 1920\n",
    "capture_dim = get_capture_dim(cfg_file.cfg['src_video'])\n",
    "print('org dim: ',capture_dim)\n",
    "\n",
    "img_h = capture_dim[0]\n",
    "img_w = capture_dim[1]\n",
    "\n",
    "img_h = img_h//cfg_file.cfg['reduce_image_wh_by']\n",
    "img_w = img_w//cfg_file.cfg['reduce_image_wh_by']\n",
    "\n",
    "print('new dim h:',img_h)\n",
    "print('new dim w:',img_w)"
   ]
  },
  {
   "cell_type": "code",
   "execution_count": 13,
   "metadata": {},
   "outputs": [],
   "source": [
    "def plot_image(images, captions=None, cmap=None):    \n",
    "    if captions!=None:\n",
    "        print(captions)\n",
    "    \n",
    "    if len(images) > 1:\n",
    "        f, axes = plt.subplots(1, len(images), sharey=True, figsize=(4,4))\n",
    "        f.set_figwidth(15)\n",
    "        for ax,image in zip(axes, images):\n",
    "            ax.imshow(image, cmap)\n",
    "    else:\n",
    "        plt.figure(figsize=(4,4))\n",
    "        plt.imshow(images[0])\n",
    "    plt.show()"
   ]
  },
  {
   "cell_type": "code",
   "execution_count": 14,
   "metadata": {},
   "outputs": [],
   "source": [
    "def get_file_name():\n",
    "    return 'img_'+datetime.now().strftime(\"%Y%m%d%H%M%S\")\n",
    "#get_file_name()"
   ]
  },
  {
   "cell_type": "code",
   "execution_count": 15,
   "metadata": {},
   "outputs": [],
   "source": [
    "def capture_frames(cfg_file, crop=True, count=1, delay_sec=60, save=True):\n",
    "    cap = None\n",
    "    if img_h==0 or img_w==0:\n",
    "        raise Exception('img_h or img_w can not be 0')\n",
    "    try:\n",
    "        cap = cv2.VideoCapture(cfg_file.cfg['src_video'])\n",
    "        #cap.set(cv2.CAP_PROP_BUFFERSIZE, 1)\n",
    "        \n",
    "        if(cap.isOpened()):\n",
    "            for i in range(0, count):\n",
    "                ret, frame = cap.read()\n",
    "                if not ret:\n",
    "                    print(\"failed to grab frame \")\n",
    "                    #raise Exception(\"failed to grab frame \")\n",
    "                    return None, None\n",
    "\n",
    "                #print('org shape: ',frame.shape)\n",
    "                frame = cv2.resize(frame, (img_w,img_h), \n",
    "                                   interpolation = cv2.INTER_AREA)\n",
    "\n",
    "                if crop:\n",
    "                    if cfg_file.cfg['crop_image_from_left']>0:\n",
    "                        new_wl = int(img_w*cfg_file.cfg['crop_image_from_left'])\n",
    "                    else:\n",
    "                        new_wl = 0\n",
    "                        \n",
    "                    if cfg_file.cfg['crop_image_from_right']>0:\n",
    "                        #crop 70% on width from right\n",
    "                        new_wr = int(img_w*cfg_file.cfg['crop_image_from_right'])\n",
    "                    else:\n",
    "                        new_wr = img_w                    \n",
    "                        \n",
    "                    frame = frame[0:img_h,new_wl:new_wr]\n",
    "\n",
    "                if save:\n",
    "                    img_name = cfg_file.loc_unknown+\"frame_{0}.{1}\".format(get_file_name(), cfg_file.cfg['file_ext'][2:])\n",
    "                    cv2.imwrite(img_name, frame)\n",
    "                else:\n",
    "                    img_name = None\n",
    "\n",
    "                frame = cv2.cvtColor(frame, cv2.COLOR_BGR2RGB)\n",
    "                \n",
    "                if count>1 and save:\n",
    "                    print('file saved: ',img_name)\n",
    "                    \n",
    "                if (i+1)!=count:\n",
    "                    #close and re-open else we will get old frame\n",
    "                    if cap != None:\n",
    "                        cap.release()\n",
    "                    #it take about 2 sec to open cam again\n",
    "                    if delay_sec>0:\n",
    "                        time.sleep(delay_sec-2) \n",
    "                    cap = cv2.VideoCapture(cfg_file.cfg['src_video'])\n",
    "                    if(cap.isOpened()==False):\n",
    "                        print('Could not open camera!')\n",
    "                        break            \n",
    "            return frame, img_name\n",
    "        else:\n",
    "            print('Could not open camera!')\n",
    "            return None, None\n",
    "    finally:\n",
    "        if cap != None:\n",
    "            cap.release()\n",
    "        cv2.destroyAllWindows()"
   ]
  },
  {
   "cell_type": "markdown",
   "metadata": {},
   "source": [
    "# Load Model"
   ]
  },
  {
   "cell_type": "code",
   "execution_count": 16,
   "metadata": {},
   "outputs": [
    {
     "name": "stdout",
     "output_type": "stream",
     "text": [
      "Loading model file:  ./project/flowers-recognition//flowers_recognition_model.h5\n",
      "Model: \"sequential_5\"\n",
      "_________________________________________________________________\n",
      "Layer (type)                 Output Shape              Param #   \n",
      "=================================================================\n",
      "sequential_3 (Sequential)    (None, 224, 224, 3)       0         \n",
      "_________________________________________________________________\n",
      "normalization_3 (Normalizati (None, 224, 224, 3)       7         \n",
      "_________________________________________________________________\n",
      "resnet50v2 (Functional)      (None, 7, 7, 2048)        23564800  \n",
      "_________________________________________________________________\n",
      "global_average_pooling2d_3 ( (None, 2048)              0         \n",
      "_________________________________________________________________\n",
      "flatten_3 (Flatten)          (None, 2048)              0         \n",
      "_________________________________________________________________\n",
      "batch_normalization_6 (Batch (None, 2048)              8192      \n",
      "_________________________________________________________________\n",
      "dense_6 (Dense)              (None, 16)                32784     \n",
      "_________________________________________________________________\n",
      "dropout_3 (Dropout)          (None, 16)                0         \n",
      "_________________________________________________________________\n",
      "batch_normalization_7 (Batch (None, 16)                64        \n",
      "_________________________________________________________________\n",
      "dense_7 (Dense)              (None, 5)                 85        \n",
      "=================================================================\n",
      "Total params: 23,605,932\n",
      "Trainable params: 20,596,869\n",
      "Non-trainable params: 3,009,063\n",
      "_________________________________________________________________\n",
      "None\n"
     ]
    }
   ],
   "source": [
    "cnn = LoadAndTestCNNUtil(cfg_file)\n",
    "cnn.debug = True\n",
    "cnn.load()"
   ]
  },
  {
   "cell_type": "markdown",
   "metadata": {},
   "source": [
    "# Load Test Image"
   ]
  },
  {
   "cell_type": "code",
   "execution_count": 17,
   "metadata": {},
   "outputs": [
    {
     "name": "stdout",
     "output_type": "stream",
     "text": [
      "project_dir:  ./project/flowers-recognition/\n"
     ]
    }
   ],
   "source": [
    "print('project_dir: ',cfg_file.project_dir)"
   ]
  },
  {
   "cell_type": "code",
   "execution_count": 18,
   "metadata": {},
   "outputs": [
    {
     "name": "stdout",
     "output_type": "stream",
     "text": [
      "all img count:  0\n"
     ]
    }
   ],
   "source": [
    "all_images = glob(cfg_file.project_dir+'*/'+cfg_file.cfg['file_ext'])\n",
    "print('all img count: ',len(all_images))"
   ]
  },
  {
   "cell_type": "code",
   "execution_count": 21,
   "metadata": {},
   "outputs": [
    {
     "name": "stdout",
     "output_type": "stream",
     "text": [
      "file:  ./temp/flowers-recognition/non-labeled/frame_img_20211012145422.jpg\n"
     ]
    },
    {
     "data": {
      "image/png": "[encoded data removed]",
      "text/plain": [
       "<Figure size 288x288 with 1 Axes>"
      ]
     },
     "metadata": {
      "needs_background": "light"
     },
     "output_type": "display_data"
    },
    {
     "name": "stdout",
     "output_type": "stream",
     "text": [
      "type: <class 'numpy.ndarray'>\n",
      "shape: (224, 224, 3)\n",
      "-\n",
      "Predictions: [[0.08097004 0.00996105 0.84937996 0.02131285 0.0383761 ]]\n",
      "Score: tf.Tensor([0.16699573 0.15554878 0.36009872 0.15732458 0.1600321 ], shape=(5,), dtype=float32)\n",
      "-\n",
      "Class: rose [ 36.01 %]\n",
      "-------------------------\n",
      "   ClassName   Score\n",
      "2       rose  36.010\n",
      "0      daisy  16.700\n",
      "4      tulip  16.003\n",
      "3  sunflower  15.732\n",
      "1  dandelion  15.555\n",
      "-\n"
     ]
    },
    {
     "data": {
      "image/png": "[encoded data removed]",
      "text/plain": [
       "<Figure size 432x288 with 1 Axes>"
      ]
     },
     "metadata": {
      "needs_background": "light"
     },
     "output_type": "display_data"
    }
   ],
   "source": [
    "frame = None\n",
    "file = None\n",
    "\n",
    "#file = random.choice(all_images)\n",
    "frame, file = capture_frames(cfg_file=cfg_file,crop=True, count=1, delay_sec=0, save=True)\n",
    "#file = './project/home_presence/no-one/frame_img_20210713121302.png'\n",
    "\n",
    "print('file: ',file)\n",
    "if frame is None:\n",
    "    frame = Image.open(file)\n",
    "\n",
    "plot_image([frame])\n",
    "\n",
    "(img_class, model_acc) = cnn.predict(file)"
   ]
  },
  {
   "cell_type": "code",
   "execution_count": 22,
   "metadata": {},
   "outputs": [
    {
     "name": "stdout",
     "output_type": "stream",
     "text": [
      "Deleted temp file\n"
     ]
    }
   ],
   "source": [
    "#delete temp file\n",
    "if file.startswith(cfg_file.loc_unknown):    \n",
    "    if os.path.isfile(file):\n",
    "        print('Deleted temp file')\n",
    "        os.remove(file)\n",
    "    else:\n",
    "        #no file to delete\n",
    "        pass"
   ]
  },
  {
   "cell_type": "code",
   "execution_count": null,
   "metadata": {},
   "outputs": [],
   "source": []
  },
  {
   "cell_type": "code",
   "execution_count": null,
   "metadata": {},
   "outputs": [],
   "source": []
  }
 ],
 "metadata": {
  "kernelspec": {
   "display_name": "img_class_ml_env",
   "language": "python",
   "name": "img_class_ml_env"
  },
  "language_info": {
   "codemirror_mode": {
    "name": "ipython",
    "version": 3
   },
   "file_extension": ".py",
   "mimetype": "text/x-python",
   "name": "python",
   "nbconvert_exporter": "python",
   "pygments_lexer": "ipython3",
   "version": "3.8.11"
  }
 },
 "nbformat": 4,
 "nbformat_minor": 4
}
