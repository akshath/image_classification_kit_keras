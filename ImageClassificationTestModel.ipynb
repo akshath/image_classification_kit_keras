{
 "cells": [
  {
   "cell_type": "markdown",
   "metadata": {},
   "source": [
    "# Image Classification Test Model"
   ]
  },
  {
   "cell_type": "code",
   "execution_count": null,
   "metadata": {},
   "outputs": [],
   "source": [
    "#---- Install stuff -------\n",
    "#!pip install --upgrade pip\n",
    "\n",
    "#!pip install opencv-python\n",
    "#!pip install tensorflow\n",
    "#!pip install numpy==1.19.5\n",
    "\n",
    "#!pip install Pillow\n",
    "#!pip install playsound\n",
    "#!pip install gTTS\n",
    "#!pip install pyobjc\n",
    "\n",
    "#!pip install matplotlib\n",
    "#!pip install pandas\n",
    "#!pip install seaborn\n",
    "\n",
    "#!pip install PyYAML"
   ]
  },
  {
   "cell_type": "code",
   "execution_count": null,
   "metadata": {},
   "outputs": [],
   "source": [
    "import numpy as np\n",
    "import matplotlib.pyplot as plt\n",
    "%matplotlib inline\n",
    "\n",
    "import time\n",
    "from datetime import datetime\n",
    "import random\n",
    "from glob import glob\n",
    "import os"
   ]
  },
  {
   "cell_type": "code",
   "execution_count": null,
   "metadata": {},
   "outputs": [],
   "source": [
    "import cv2\n",
    "from PIL import Image"
   ]
  },
  {
   "cell_type": "code",
   "execution_count": null,
   "metadata": {},
   "outputs": [],
   "source": [
    "import tensorflow as tf\n",
    "from tensorflow import keras\n",
    "from tensorflow.keras.models import Model"
   ]
  },
  {
   "cell_type": "code",
   "execution_count": null,
   "metadata": {},
   "outputs": [],
   "source": [
    "%matplotlib inline\n",
    "\n",
    "import warnings\n",
    "warnings.filterwarnings('ignore')"
   ]
  },
  {
   "cell_type": "code",
   "execution_count": null,
   "metadata": {},
   "outputs": [],
   "source": [
    "#print system info\n",
    "import sys\n",
    "print('Python: ',sys.version)"
   ]
  },
  {
   "cell_type": "code",
   "execution_count": null,
   "metadata": {},
   "outputs": [],
   "source": [
    "#print tensor and keras version\n",
    "print('keras: ', keras.__version__)\n",
    "print('tensorflow: ', tf.__version__)\n",
    "import numpy\n",
    "print('numpy: ', numpy.version.version)"
   ]
  },
  {
   "cell_type": "markdown",
   "metadata": {},
   "source": [
    "## Functions"
   ]
  },
  {
   "cell_type": "code",
   "execution_count": null,
   "metadata": {},
   "outputs": [],
   "source": [
    "import FileIOUtil\n",
    "import TTSUtil\n",
    "from ImageClassificationCfg import ImageClassificationCfg\n",
    "from LoadAndTestCNNUtil import LoadAndTestCNNUtil"
   ]
  },
  {
   "cell_type": "markdown",
   "metadata": {},
   "source": [
    "# Read Cfg"
   ]
  },
  {
   "cell_type": "code",
   "execution_count": null,
   "metadata": {},
   "outputs": [],
   "source": [
    "#cfg_file = './project/flowers-recognition.yml'\n",
    "#cfg_file = './project/work_pose.yml'\n",
    "cfg_file = './project/home_presence.yml'\n",
    "\n",
    "cfg_file = ImageClassificationCfg(cfg_file)\n",
    "cfg_file.load()"
   ]
  },
  {
   "cell_type": "code",
   "execution_count": null,
   "metadata": {},
   "outputs": [],
   "source": [
    "cfg_file.log_info()"
   ]
  },
  {
   "cell_type": "code",
   "execution_count": null,
   "metadata": {},
   "outputs": [],
   "source": [
    "def get_capture_dim(src_video):\n",
    "    cap = None\n",
    "    try:\n",
    "        cap = cv2.VideoCapture(src_video)\n",
    "        if(cap.isOpened()):\n",
    "            ret, frame = cap.read()\n",
    "            return frame.shape\n",
    "        else:\n",
    "            return 0,0\n",
    "    finally:\n",
    "        if cap!=None:\n",
    "            cap.release()\n",
    "        cv2.destroyAllWindows()"
   ]
  },
  {
   "cell_type": "code",
   "execution_count": null,
   "metadata": {},
   "outputs": [],
   "source": [
    "#org shape 1080, 1920\n",
    "capture_dim = get_capture_dim(cfg_file.cfg['src_video'])\n",
    "print('org dim: ',capture_dim)\n",
    "\n",
    "img_h = capture_dim[0]\n",
    "img_w = capture_dim[1]\n",
    "\n",
    "img_h = img_h//cfg_file.cfg['reduce_image_wh_by']\n",
    "img_w = img_w//cfg_file.cfg['reduce_image_wh_by']\n",
    "\n",
    "print('new dim h:',img_h)\n",
    "print('new dim w:',img_w)"
   ]
  },
  {
   "cell_type": "code",
   "execution_count": null,
   "metadata": {},
   "outputs": [],
   "source": [
    "def plot_image(images, captions=None, cmap=None):    \n",
    "    if captions!=None:\n",
    "        print(captions)\n",
    "    \n",
    "    if len(images) > 1:\n",
    "        f, axes = plt.subplots(1, len(images), sharey=True, figsize=(4,4))\n",
    "        f.set_figwidth(15)\n",
    "        for ax,image in zip(axes, images):\n",
    "            ax.imshow(image, cmap)\n",
    "    else:\n",
    "        plt.figure(figsize=(4,4))\n",
    "        plt.imshow(images[0])\n",
    "    plt.show()"
   ]
  },
  {
   "cell_type": "code",
   "execution_count": null,
   "metadata": {},
   "outputs": [],
   "source": [
    "def get_file_name():\n",
    "    return 'img_'+datetime.now().strftime(\"%Y%m%d%H%M%S\")\n",
    "#get_file_name()"
   ]
  },
  {
   "cell_type": "code",
   "execution_count": null,
   "metadata": {},
   "outputs": [],
   "source": [
    "def capture_frames(cfg_file, crop=True, count=1, delay_sec=60, save=True):\n",
    "    cap = None\n",
    "    if img_h==0 or img_w==0:\n",
    "        raise Exception('img_h or img_w can not be 0')\n",
    "    try:\n",
    "        cap = cv2.VideoCapture(cfg_file.cfg['src_video'])\n",
    "        #cap.set(cv2.CAP_PROP_BUFFERSIZE, 1)\n",
    "        \n",
    "        if(cap.isOpened()):\n",
    "            for i in range(0, count):\n",
    "                ret, frame = cap.read()\n",
    "                if not ret:\n",
    "                    print(\"failed to grab frame \")\n",
    "                    #raise Exception(\"failed to grab frame \")\n",
    "                    return None, None\n",
    "\n",
    "                #print('org shape: ',frame.shape)\n",
    "                frame = cv2.resize(frame, (img_w,img_h), \n",
    "                                   interpolation = cv2.INTER_AREA)\n",
    "\n",
    "                if crop:\n",
    "                    if cfg_file.cfg['crop_image_from_left']>0:\n",
    "                        new_wl = int(img_w*cfg_file.cfg['crop_image_from_left'])\n",
    "                    else:\n",
    "                        new_wl = 0\n",
    "                        \n",
    "                    if cfg_file.cfg['crop_image_from_right']>0:\n",
    "                        #crop 70% on width from right\n",
    "                        new_wr = int(img_w*cfg_file.cfg['crop_image_from_right'])\n",
    "                    else:\n",
    "                        new_wr = img_w                    \n",
    "                        \n",
    "                    frame = frame[0:img_h,new_wl:new_wr]\n",
    "\n",
    "                if save:\n",
    "                    img_name = cfg_file.loc_unknown+\"frame_{0}.png\".format(get_file_name())\n",
    "                    cv2.imwrite(img_name, frame)\n",
    "                else:\n",
    "                    img_name = None\n",
    "\n",
    "                frame = cv2.cvtColor(frame, cv2.COLOR_BGR2RGB)\n",
    "                \n",
    "                if count>1 and save:\n",
    "                    print('file saved: ',img_name)\n",
    "                    \n",
    "                if (i+1)!=count:\n",
    "                    #close and re-open else we will get old frame\n",
    "                    if cap != None:\n",
    "                        cap.release()\n",
    "                    #it take about 2 sec to open cam again\n",
    "                    if delay_sec>0:\n",
    "                        time.sleep(delay_sec-2) \n",
    "                    cap = cv2.VideoCapture(cfg_file.cfg['src_video'])\n",
    "                    if(cap.isOpened()==False):\n",
    "                        print('Could not open camera!')\n",
    "                        break            \n",
    "            return frame, img_name\n",
    "        else:\n",
    "            print('Could not open camera!')\n",
    "            return None, None\n",
    "    finally:\n",
    "        if cap != None:\n",
    "            cap.release()\n",
    "        cv2.destroyAllWindows()"
   ]
  },
  {
   "cell_type": "markdown",
   "metadata": {},
   "source": [
    "# Load Model"
   ]
  },
  {
   "cell_type": "code",
   "execution_count": null,
   "metadata": {},
   "outputs": [],
   "source": [
    "cnn = LoadAndTestCNNUtil(cfg_file)\n",
    "cnn.debug = True\n",
    "cnn.load()"
   ]
  },
  {
   "cell_type": "markdown",
   "metadata": {},
   "source": [
    "# Load Test Image"
   ]
  },
  {
   "cell_type": "code",
   "execution_count": null,
   "metadata": {},
   "outputs": [],
   "source": [
    "print('project_dir: ',cfg_file.project_dir)"
   ]
  },
  {
   "cell_type": "code",
   "execution_count": null,
   "metadata": {},
   "outputs": [],
   "source": [
    "all_images = glob(cfg_file.project_dir+'*/'+cfg_file.cfg['file_ext'])\n",
    "print('all img count: ',len(all_images))"
   ]
  },
  {
   "cell_type": "code",
   "execution_count": null,
   "metadata": {},
   "outputs": [],
   "source": [
    "frame = None\n",
    "file = None\n",
    "\n",
    "#file = random.choice(all_images)\n",
    "frame, file = capture_frames(cfg_file=cfg_file,crop=True, count=1, delay_sec=0, save=True)\n",
    "#file = './project/home_presence/no-one/frame_img_20210713121302.png'\n",
    "\n",
    "print('file: ',file)\n",
    "if frame is None:\n",
    "    frame = Image.open(file)\n",
    "\n",
    "plot_image([frame])\n",
    "\n",
    "(img_class, model_acc) = cnn.predict(file)"
   ]
  },
  {
   "cell_type": "code",
   "execution_count": null,
   "metadata": {},
   "outputs": [],
   "source": [
    "#delete temp file\n",
    "if file.startswith(cfg_file.loc_unknown):\n",
    "    print('delte temp file')\n",
    "    os.remove(file)"
   ]
  },
  {
   "cell_type": "code",
   "execution_count": null,
   "metadata": {},
   "outputs": [],
   "source": []
  },
  {
   "cell_type": "code",
   "execution_count": null,
   "metadata": {},
   "outputs": [],
   "source": []
  }
 ],
 "metadata": {
  "kernelspec": {
   "display_name": "Python 3",
   "language": "python",
   "name": "python3"
  },
  "language_info": {
   "codemirror_mode": {
    "name": "ipython",
    "version": 3
   },
   "file_extension": ".py",
   "mimetype": "text/x-python",
   "name": "python",
   "nbconvert_exporter": "python",
   "pygments_lexer": "ipython3",
   "version": "3.7.10"
  }
 },
 "nbformat": 4,
 "nbformat_minor": 4
}
